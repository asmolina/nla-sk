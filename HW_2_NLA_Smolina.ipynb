{
  "cells": [
    {
      "cell_type": "markdown",
      "metadata": {
        "id": "7YdqwWkHrWl-"
      },
      "source": [
        "# Problem Set 2 (93 points)"
      ]
    },
    {
      "cell_type": "markdown",
      "metadata": {
        "id": "OIRScpR8roDI"
      },
      "source": [
        "## Important information\n",
        "1.  We provide signatures of the functions that you have to implement. Make sure you follow the signatures defined, otherwise your coding solutions will not be graded.\n",
        "\n",
        "2.  Please submit the single Jupyter Notebook file, where only Python and Markdown/$\\\\LaTeX$ are used. Any hand-written solutions inserted by photos or in any other way **are prohibitive and will not be graded**. If you will have any questions about using Markdown, ask them!\n",
        "3.  The works will be checked for **plagiarism**. The score will be divided by the number of similar works."
      ]
    },
    {
      "cell_type": "markdown",
      "metadata": {
        "id": "UeU6nZR4uxdq"
      },
      "source": [
        "## Submatrices (bonus).\n",
        "\n",
        "\n",
        "Let $U$ be an $n \\times r$ orthogonal matrix, $n \\geq r$. It is well known, that such matrix has $r \\times r$ non-singular submatrix $\\hat{U}$. To measure ``non-singularity'' of this submatrix one can use the minimal singular value, or the norm of the inverse $\\Vert \\hat{U}^{-1} \\Vert.$\n",
        "\n",
        "Suppose we select the submatrix that has the smallest possible norm of the inverse among all $r \\times r$ submatrices of $U$. What is the maximal value of such norm? Mathematically, we need to estimate\n",
        "\n",
        "$$t(n, r) = \\max_U \\min_{\\hat{U}} \\Vert \\hat{U}^{-1} \\Vert_2.$$\n",
        "\n",
        "Is it true that $t(n, r) \\leq \\sqrt{n}$?\n",
        "\n",
        "\n"
      ]
    },
    {
      "cell_type": "markdown",
      "metadata": {
        "id": "kwVN4-v2rtMp"
      },
      "source": [
        "# Problem 1 (QR algorithm) (22 pts)"
      ]
    },
    {
      "cell_type": "markdown",
      "metadata": {
        "id": "UTufw3WgsQCJ"
      },
      "source": [
        "One of the way to find eigenvalues for real matrix $A$ of size $(n,n)$ is **QR algorithm**. Each iteration of the algorithm consists of two main steps:\n",
        "\n",
        "1. Compute QR decompostion $A_k = Q_kR_k$\n",
        "2. Compute new matrix $A_{k+1} = R_kQ_k$\n",
        "\n",
        "$A_0 = A$\n",
        "\n",
        "From lecture materials you have seen that algorithm complexity in general is $O(Nn^3)$ ($N$ - number of iterations). But we can make an improvement by transforming matrix to **Upper Hessenberg form** ([link](https://en.wikipedia.org/wiki/Hessenberg_matrix)) before running the algorithm. \n",
        "\n",
        "The good property of Hessenberg matrix is preservation of its structure during QR algorithm iteration. In other words, if $A_{k}$ is Hessenberg matrix, then $A_{k+1}$ will also be a Hessenberg matrix. We can use this property to reduce complexity of each iteration. Since we need only to zero first lower subdiagonal for QR factorization (first step in each iteration) we can use **Givens rotations** $O(n^2)$ instead of **Householder reflections** $O(n^3)$. Now, the last question is how to obtain Hessenberg matrix - use Householder reflections. Since it is done only once (initialization stage), complexity of algorithm will not be increased.\n",
        "\n",
        "Final algorithm:\n",
        "\n",
        "I. **Initialization**\n",
        "\n",
        "> - Transform original matrix $A$ to Hessenberg form $H_0 = U^TAU$ using Householder reflections.\n",
        "\n",
        "II. **Loop**\n",
        "\n",
        "> **for** k in range(**N**):\n",
        "> -  Compute QR using Givens rotation: such matrices $Q_k,R_k$ that $H_k = Q_kR_k$\n",
        "\n",
        "> - Update matrix $H_{k+1} = R_k Q_k$\n",
        "\n"
      ]
    },
    {
      "cell_type": "markdown",
      "metadata": {
        "id": "yF_T3dA0mt3T"
      },
      "source": [
        "## What do you need to do:\n",
        "### Theoretical part\n",
        "<!-- 1. For real square metrices $Q,A,\\hat{A}$ prove that if we have relation $A = Q^T\\hat{A}Q$ ($Q$ - orthogonal matrix) then eigenvalues of $A$ and $\\hat{A}$ are equal. **(3 pts)**\n",
        "2. Suppose we factorize real square matrix $A = Q^TTQ$, where $Q$ is orthogonal and $T$ is upper/lower triangular matrix. Describe the easiest way to find eigenvalues of $A$. **(2 pts)** -->\n",
        "1. Show that Hessenberg matrix preserves its structure under QR algorithm: if $A_k$ hessenberg matrix then $A_{k+1}$ hessenberg as well. **(5 pts)**\n",
        "\n",
        "\n",
        "2. **(Bonus task)** For real square matrix $A$, which all leading minors are nondegenerate, prove that QR algorithm converges to upper triangular matrix: $\\lim\\limits_{k\\rightarrow \\infty} A_k = T$, where $T$ - upper triangular matrix.\n",
        "\n",
        "### Practical part\n",
        "\n",
        "1. Implement function **Hessenberg_Transform** which takes a real square matrix $A$ and returns transformed matrix in Hessenberg form $H$ (use householder reflections). **(5 pts)**\n",
        "\n",
        "2. Implement function **QR_givens** which takes a real square matrix in Hessenberg form $H$ and returns QR factorization: matrices $Q$ and $R$. **(5 pts)**\n",
        "\n",
        "3. Implement function **QR_algorithm**, which takes a real square matrix $A$ and returns $H_{N}$ - the result of $N$ iterations of QR algorithm. Use previously implemented **Hessenberg_Transform** to get Hessenberg form of matrix $A$, and  **QR_givens** to make QR factorization on each iteration. **(2 pts)**\n",
        "\n",
        "4. Varing parameter $n$ generate random matrix of size $(n,n)$ and measure the computation time of **QR_algorithm** function. Plot observed data: computation time versus $n$. Use logarithmic scale for both axes. Explain obtained results.**(3 pts)**\n",
        "\n",
        "5. Compare eigenvalues computed using your implemented algorithm and standard numpy functionality for some random matrix. Try different number of iterations for the algorithm. Explain results. **(2 pts)**"
      ]
    },
    {
      "cell_type": "markdown",
      "metadata": {
        "id": "jo7DXTGlHCtb"
      },
      "source": [
        "###Theoretical proofs\n",
        "\n",
        "****  \n",
        "**1. Proof:** \n",
        "\n",
        "\n",
        "*   $R_k$ is uppertriangular $\\Rightarrow$ $R_k^{-1}$ is uppertriangular. \n",
        "*   $A_k = Q_k R_k  \\Rightarrow Q_k = R_k^{-1} A_k$, i.e. $Q_k$ is a product of uppertriangular matrix $R_k^{-1}$ and upper Hessenberg matrix $A_k \\Rightarrow Q_k$ is an upper Hessenberg matrix.\n",
        "*   Consequently, $A_{k+1} = R_kQ_k$ is an upper Hessenberg matrix again as product of uppertriangular matrix $R_k$ and upper Hessenberg matrix $Q_k$.\n",
        "\n",
        "The proof is based on two facts, let us proof them.\n",
        "\n",
        "1)  $R$ is uppertriangular $\\Rightarrow$ $R^{-1}$ is uppertriangular.\n",
        "\n",
        "Consider $R R^{-1} = I$ or equvivalently in column form: $R\\left[\\tilde{r}_1\\left|\\tilde{r}_2\\right| \\ldots \\mid \\tilde{r}_n\\right] = \\left[R\\tilde{r}_1\\left|R\\tilde{r}_2\\right| \\ldots \\mid R\\tilde{r}_n\\right] = \\left[e_1\\left|e_2\\right| \\ldots \\mid e_n\\right] \\Rightarrow R\\tilde{r}_k = e_k$ for all $k=\\overline{1,n}$\n",
        "\n",
        "\n",
        "\\begin{equation}\n",
        "R\\tilde{r}_k =\n",
        "\\left[\\begin{array}{ccccccc}\n",
        "* & * & * & \\cdots & * & * \\\\ \n",
        "0 & * & * & \\cdots & * & * \\\\ \n",
        "0 & 0 & * & \\cdots & * & * \\\\ \n",
        ". & . & . & \\cdots & . & . \\\\ \n",
        "0 & 0 & 0 & \\cdots & R_{n-1, n-1} & R_{n-1, n} \\\\ \n",
        "0 & 0 & 0 & \\cdots & 0 & R_{nn} \\\\ \n",
        "\\end{array}\\right] \n",
        "\\left[\\begin{array}{c}\n",
        "\\tilde{r}_k^1 \\\\\n",
        "\\tilde{r}_k^2 \\\\\n",
        "\\vdots \\\\\n",
        "\\tilde{r}_k^{n-1} \\\\\n",
        "\\tilde{r}_k^n\n",
        "\\end{array}\\right]\n",
        "=\n",
        "\\left[\\begin{array}{c}\n",
        "0 \\\\\n",
        "0 \\\\\n",
        "1 \\\\\n",
        "\\vdots \\\\\n",
        "0 \\\\\n",
        "0\n",
        "\\end{array}\\right]\n",
        "=e_k\n",
        "\\end{equation}\n",
        "\n",
        "The last row contains only one non-zero element $R_{nn} \\neq 0$ and multipling it by a column vector gives 0: $R_{n n} \\cdot \\tilde{r}_k^n=0 \\Rightarrow \\tilde{r}_k^n=0$.\n",
        "\n",
        "Similarly, \n",
        "\\begin{equation}\n",
        "R_{n-1 n-1} \\cdot \\tilde{r}_k^{n-1}+R_{n-1 n}  \\cdot \\tilde{r}_k^n=R_{n-1 n-1} \\cdot \\tilde{r}_k^{n-1}=0 \\Rightarrow \\tilde{r}_k^{n-1}=0\n",
        "\\end{equation}\n",
        "\n",
        "and moving from the bottom to the $k$-th position we got that $\\tilde{r}_k$ has zeroes below k. It holds for all $k=\\overline{1,n}  \\Rightarrow R^{-1} = \\left[\\tilde{r}_1\\left|\\tilde{r}_2\\right| \\ldots \\mid \\tilde{r}_n\\right]$ is uppertriangular.\n",
        "\n",
        "2) $C$ is uppertriangular, $D$ is Hessenberg $\\Rightarrow F=CD$ is Hessenberg\n",
        "\n",
        "In index notation:\n",
        "\\begin{equation}\n",
        "F_{i j}=\\sum_{\\alpha=1}^{n} C_{i \\alpha} D_{\\alpha j}\n",
        "\\end{equation}\n",
        "\n",
        "Since  $D$ is Hessenberg, $D_{\\alpha j} = 0$ for $\\alpha > j + 1 \\Rightarrow$ \n",
        "\n",
        "\\begin{equation}\n",
        "F_{i j}=\\sum_{\\substack{\\alpha: \\\\ \\alpha<j+1}} C_{i \\alpha} D_{\\alpha j}\n",
        "\\end{equation}\n",
        "\n",
        "Consider the elements $F_{ij}$ below the first subdiagonal $(i > j + 1)$. For them \n",
        "\\begin{equation}\n",
        "F_{i j}=\\sum_{\\substack{\\alpha: \\\\ \\alpha< j + 1<i}} C_{i \\alpha} D_{\\alpha j} \n",
        "=\\sum_{\\substack{\\alpha: \\\\ \\alpha<i}} C_{i \\alpha} D_{\\alpha j} = 0\n",
        "\\end{equation}\n",
        "\n",
        "since $C_{i \\alpha} = 0$ for $i > \\alpha$  because it is an uppertriangular matrix.\n",
        "Therefore, $F_{ij} = 0$ for $i > j + 1$ meaning that $F$ is upper Hessenberg. \n",
        "\n",
        "****   "
      ]
    },
    {
      "cell_type": "code",
      "execution_count": null,
      "metadata": {
        "id": "fDmZd2M10l3e"
      },
      "outputs": [],
      "source": [
        "import numpy as np"
      ]
    },
    {
      "cell_type": "code",
      "execution_count": null,
      "metadata": {
        "id": "mW_6vkzZenqD"
      },
      "outputs": [],
      "source": [
        "def Hessenberg_Transform(A):\n",
        "    H = A\n",
        "    n = A.shape[0]\n",
        "    Q = np.eye(n)\n",
        "    for i in range(1, n-1):\n",
        "        v = get_householder(H[i:, i-1])\n",
        "        v = v.reshape(-1, 1)\n",
        "\n",
        "        v_norm = v.T @ v\n",
        "        if np.isclose(v_norm, 0):\n",
        "            V = np.eye(v.shape[0])\n",
        "        else:\n",
        "            V = np.eye(v.shape[0]) - 2 / v_norm * v @ v.T\n",
        "\n",
        "        U = np.block([\n",
        "        [np.eye(i), np.zeros((i, n-i))],\n",
        "        [np.zeros((n-i, i)), V] \n",
        "        ]) \n",
        "\n",
        "        H = U @ H @ U.T\n",
        "\n",
        "        Q = Q @ U\n",
        "\n",
        "    H = np.where(np.abs(H) < 1e-13, 0, H)\n",
        "    Q = np.where(np.abs(Q) < 1e-13, 0, Q)\n",
        "    return H, Q\n",
        "\n",
        "\n",
        "def get_householder(vector):\n",
        "    e = np.zeros_like(vector)\n",
        "    e[0] = 1.0\n",
        "    if np.isclose(vector[0], 0, atol=1e-10):\n",
        "        return np.linalg.norm(vector, ord=2) * e + vector\n",
        "    else:\n",
        "        return np.linalg.norm(vector, ord=2) * e - np.sign(vector[0]) * vector "
      ]
    },
    {
      "cell_type": "code",
      "execution_count": null,
      "metadata": {
        "id": "ZIIEZphhvvPP"
      },
      "outputs": [],
      "source": [
        "def QR_givens(H):\n",
        "    n = H.shape[0]\n",
        "    Q, R = np.eye(n), H\n",
        "    for i in range(0, n-1):\n",
        "\n",
        "        if np.isclose(R[i+1, i], 0):\n",
        "            continue\n",
        "\n",
        "        s = 1.0 / np.sqrt(R[i,i]*R[i,i] / (R[i+1, i]*R[i+1, i]) + 1)\n",
        "        c = s * R[i, i] / R[i+1, i]\n",
        "        G = np.eye(n)\n",
        "        G[i, i], G[i, i+1] = c, s\n",
        "        G[i+1, i], G[i+1, i+1] = -s, c\n",
        "\n",
        "\n",
        "        Q = Q @ G.T\n",
        "        R = G @ R\n",
        "\n",
        "    R = np.where(np.abs(R) < 1e-13, 0, R)\n",
        "    Q = np.where(np.abs(Q) < 1e-13, 0, Q)\n",
        "    return Q, R"
      ]
    },
    {
      "cell_type": "code",
      "execution_count": null,
      "metadata": {
        "id": "_z1nw6kTwDu6"
      },
      "outputs": [],
      "source": [
        "def QR_algorithm(A, N_iterations):\n",
        "    H = A\n",
        "    H, _ = Hessenberg_Transform(H)\n",
        "    for _ in range(0, N_iterations):\n",
        "        Q, R = QR_givens(H)\n",
        "        H = R @ Q\n",
        "\n",
        "    H = np.where(np.abs(H) < 1e-13, 0, H)\n",
        "    return H"
      ]
    },
    {
      "cell_type": "code",
      "source": [
        "import matplotlib.pyplot as plt\n",
        "import time\n",
        "\n",
        "ns = np.around(np.geomspace(2, 256, num=8)).astype(int)\n",
        "ts = []\n",
        "N_iterations = 1000\n",
        "for n in ns:\n",
        "    A = np.random.rand(n, n) \n",
        "    A = (A + A.T) / 2.0 # Let us check only on matrices with a real spectrum\n",
        "\n",
        "    st = time.process_time()\n",
        "    QR_algorithm(A, N_iterations)\n",
        "    t = time.process_time() - st\n",
        "\n",
        "    ts.append(t)\n",
        "\n",
        "\n",
        "plt.scatter(ns, ts)\n",
        "\n",
        "m, c = np.polyfit(np.log(ns), np.log(ts), 1) # fit log(y) = m*log(x) + c\n",
        "y_fit = np.exp(m*np.log(ns) + c)\n",
        "plt.plot(ns, y_fit, ':', label=f'log(T) = {m:.3f}*log(n) + {c:.3f}')\n",
        "\n",
        "plt.xlabel(\"log(Matrix size: n)\", fontsize=14)\n",
        "plt.ylabel(\"log(CPU Execution time: sec)\", fontsize=14)\n",
        "plt.xscale('log')\n",
        "plt.yscale('log')\n",
        "plt.title(f'In log-scale we got a linear dependency with a slope coefficient m={m:.3f}')\n",
        "plt.legend();"
      ],
      "metadata": {
        "colab": {
          "base_uri": "https://localhost:8080/",
          "height": 302
        },
        "id": "l0jKDK3xaRs6",
        "outputId": "ad1730c6-c2ba-4269-bc9e-5a4ccd377325"
      },
      "execution_count": null,
      "outputs": [
        {
          "output_type": "display_data",
          "data": {
            "text/plain": [
              "<Figure size 432x288 with 1 Axes>"
            ],
            "image/png": "[encoded data removed]"
          },
          "metadata": {
            "needs_background": "light"
          }
        }
      ]
    },
    {
      "cell_type": "markdown",
      "source": [
        "**Comment:** instead of $O(Nn^3)$ complexity of the standard QR-algorithm we got \n",
        "complexity $O(Nn^2)$. \n",
        "\n",
        "On the initialization stage we obtained Hessenberg form of the matrix (as it was mentioned, initialization stage does not influence the complexity), and then on each of $N$ steps we zeroed out only the first lower subdiagonal ($n-1$ element) with Givens rotations $O(n^2)$ "
      ],
      "metadata": {
        "id": "SXaP8KXoJYEr"
      }
    },
    {
      "cell_type": "code",
      "source": [
        "N_iters = [5, 10, 100, 200, 500, 1000, 5000, 10000]\n",
        "n = 20\n",
        "\n",
        "abs_errors = []\n",
        "largest_eigenval_abs_errors = []\n",
        "\n",
        "A = np.random.rand(n, n)\n",
        "A = (A + A.T) / 2.0\n",
        "\n",
        "linalg_eigvals = np.linalg.eigvals(A)\n",
        "linalg_eigvals = np.sort(linalg_eigvals)[::-1]\n",
        "\n",
        "for N_iter in N_iters:\n",
        "    H = QR_algorithm(A, N_iter)\n",
        "    algorithm_eigvals = np.sort(H.diagonal())[::-1]\n",
        "    \n",
        "    largest_eigenval_abs_errors.append(algorithm_eigvals[0] - linalg_eigvals[0])\n",
        "    abs_errors.append(np.abs(algorithm_eigvals - linalg_eigvals).max())\n",
        "\n",
        "plt.scatter(N_iters, abs_errors, color='black', label='Max absolute error')\n",
        "plt.scatter(N_iters, largest_eigenval_abs_errors, color='red', s=5, label='First eigenvalues absolute error')\n",
        "plt.xlabel(\"Number of iterations\", fontsize=14)\n",
        "plt.ylabel(\"Absolute difference\", fontsize=14)\n",
        "plt.title(\"Comparison of the algoritm's eigenvalues with linalg eigenvalues\")\n",
        "plt.legend();"
      ],
      "metadata": {
        "id": "cmb9YzNbebno",
        "colab": {
          "base_uri": "https://localhost:8080/",
          "height": 298
        },
        "outputId": "24d1ccb1-df6b-40ee-c56f-498f3123564c"
      },
      "execution_count": null,
      "outputs": [
        {
          "output_type": "display_data",
          "data": {
            "text/plain": [
              "<Figure size 432x288 with 1 Axes>"
            ],
            "image/png": "[encoded data removed]"
          },
          "metadata": {
            "needs_background": "light"
          }
        }
      ]
    },
    {
      "cell_type": "markdown",
      "source": [
        "**Comment**:\n",
        "The number of iterations $N$ required for eigenvalues from proposed algorithm  converge to the linalg eigeinvalues depends on the matrix, the more the better in terms of absolute difference. For $N=10000$ it is coinsides with absolute error $\\sim 10^{-14}$.\n",
        "\n",
        "However, even $N=10$ steps of the algorithm are enough to get a good estimation of the largest eigenvalue.\n"
      ],
      "metadata": {
        "id": "vz5ZlG6Lwoq6"
      }
    },
    {
      "cell_type": "markdown",
      "metadata": {
        "id": "0CzvluMS3Kys"
      },
      "source": [
        "# Problem 2 (Stochastic trace estimation) (30 pts) "
      ]
    },
    {
      "cell_type": "markdown",
      "metadata": {
        "id": "qFFd6Gfpw_SK"
      },
      "source": [
        "In this problem we consider stochastic estimation of trace for implicitly-defined matrices.\n",
        "\n",
        "Impicitly-defined matrices are such that matrix-vector multiplication is easy to perform, but matrix entries are not easy to obtain (examples are given by integral kernels, products of sparse matrices, products of a set of circulants, low-rank matrices given in a compressed form, etc).\n",
        "\n",
        "In such cases it is often possible to approximate trace with $k\\ll N$ matrix-vector products, where $N$ is the size of matrix.\n",
        "\n",
        "One popular way to obtain stochastic estimate is Hutchinson algorithm."
      ]
    },
    {
      "cell_type": "markdown",
      "metadata": {
        "id": "5h9q64EeRD9t"
      },
      "source": [
        "## Hutchinson algorithm\n",
        "Let $u$ be a random vector from $\\mathbb{R}^{n}$ with independent identicaly distributed entries $u_i$ each having zero mean and variance $\\sigma^2$.\n",
        "\n",
        "Let $B$ be a symmetric matrix from $\\mathbb{R}^{n\\times n}$.\n",
        "\n",
        "Hutchinson algorithm is roughly as follows:\n",
        "\n",
        "    trace_estimate = 0\n",
        "    for i=1:N do\n",
        "        u = random_vector\n",
        "        trace_estimate += (u,Bu)\n",
        "    end do\n",
        "    trace_estimate /= N\n",
        "\n",
        "So Hutchinson algorithm uses empirical mean $u^\\top B u$ as a trace estimation. Below we ask you to find properties of this estimator."
      ]
    },
    {
      "cell_type": "markdown",
      "metadata": {
        "id": "VgHOv00abY_0"
      },
      "source": [
        "**Subproblem 1 (5 pts)**"
      ]
    },
    {
      "cell_type": "markdown",
      "metadata": {
        "id": "3C5hsAIZReDq"
      },
      "source": [
        "1. Show that $\\mathbb{E}\\left[u^\\top B u\\right] = \\sigma^2 \\text{tr} B$, where $\\mathbb{E}\\left[\\cdot\\right]$ denotes average wrt $u$."
      ]
    },
    {
      "cell_type": "markdown",
      "source": [
        "**Proof:** $u^{\\top}Bu$ is a scalar $\\Rightarrow u^{\\top}Bu = \\operatorname{tr} \\left( u^{\\top}Bu \\right) = \\operatorname{tr} \\left( Bu u^{\\top}\\right) $. Therefore $ \\mathbb{E}\\left[u^\\top B u\\right] = \\mathbb{E}\\left[ \\operatorname{tr} \\left( Buu^{\\top} \\right)\\right]  $. Due to linearity of expectation and the fact that trace is a linear combination of matrix entries: $\\mathbb{E}\\left[ \\operatorname{tr} \\left( Buu^{\\top} \\right)\\right]  =  \\operatorname{tr} \\left( \\mathbb{E} \\left[Buu^{\\top}\\right] \\right) $. \n",
        "$B$ is a matrix of constants, so $ \\mathbb{E} \\left[Buu^{\\top}\\right] = B \\cdot \\mathbb{E} \\left[uu^{\\top}\\right]$\n",
        "All $u_i$ are i.i.d random variables with $ \\mathbb{E}u_i = 0$ and $\\operatorname{Var} u_i = \\sigma^2$, so\n",
        "\\begin{equation} \\mathbb{E}\\left[u^\\top B u\\right] = \\operatorname{tr} \\left( B \\cdot \\mathbb{E} \\left[uu^{\\top}\\right] \\right)= \n",
        "\\operatorname{tr}\\left(B \\cdot\\left(\\begin{array}{cccc}\n",
        "\\mathbb{E}\\left[u_1 u_1\\right] & \\mathbb{E}\\left[u_1 u_2\\right] & \\cdots & \\mathbb{E}\\left[u_1 u_n\\right] \\\\\n",
        "\\mathbb{E}\\left[u_2 u_1\\right] & \\mathbb{E}\\left[u_2 u_2\\right] & \\cdots & \\mathbb{E}\\left[u_2 u_n\\right] \\\\\n",
        "\\vdots & \\vdots & \\ddots & \\vdots \\\\\n",
        "\\mathbb{E}\\left[u_n u_1\\right] & \\mathbb{E}\\left[u_n u_2\\right] & \\cdots & \\mathbb{E}\\left[u_n u_n\\right]\n",
        "\\end{array}\\right)\\right)= \\\\\n",
        "\\operatorname{tr}\\left(B \\cdot\\left(\\begin{array}{cccc}\n",
        "\\mathbb{E}\\left[u_1^2\\right] & \\mathbb{E}\\left[u_1\\right] \\mathbb{E}\\left[u_2\\right] & \\cdots & \\mathbb{E}\\left[u_1\\right] \\mathbb{E}\\left[ u_n\\right] \\\\\n",
        "\\mathbb{E}\\left[u_2\\right] \\mathbb{E}\\left[ u_1\\right] & \\mathbb{E}\\left[u_2^2\\right] & \\cdots & \\mathbb{E}\\left[u_2\\right] \\mathbb{E}\\left[ u_n\\right] \\\\\n",
        "\\vdots & \\vdots & \\ddots & \\vdots \\\\\n",
        "\\mathbb{E}\\left[u_n\\right] \\mathbb{E}\\left[ u_1\\right] & \\mathbb{E}\\left[u_n\\right] \\mathbb{E}\\left[ u_2\\right] & \\cdots & \\mathbb{E}\\left[u_n^2\\right]\n",
        "\\end{array}\\right)\\right)= \\\\\n",
        "\\operatorname{tr}\\left(B\n",
        "\\left(\\begin{array}{cccc}\n",
        "\\operatorname{Var} u_1-\\left(\\mathbb{E} u_1\\right)^2 & 0 & \\ldots & 0 \\\\\n",
        "0 & \\operatorname{Var}\\left(u_2\\right)-\\left(\\mathbb{E} u_2\\right)^2 & \\ldots & 0 \\\\\n",
        "\\vdots & \\vdots & \\ddots &\\vdots  \\\\\n",
        "0 & 0 & \\ldots &\\operatorname{Var}\\left(u_n\\right)-\\left(\\mathbb{E} u_n\\right)^2\n",
        "\\end{array}\\right) \\right) = \\\\\n",
        "\\operatorname{tr}\\left(B \\cdot \\operatorname{diag}\\left(\\sigma^2-0, \\sigma^2-0, \\ldots, \\sigma^2-0\\right)\\right)=\\sigma^2 \\operatorname{tr} B\n",
        "\\end{equation}"
      ],
      "metadata": {
        "id": "QB77i_booR-G"
      }
    },
    {
      "cell_type": "markdown",
      "metadata": {
        "id": "YLIKOSDTSLRC"
      },
      "source": [
        "2. Show that $\\text{var}\\left[u^\\top B u\\right] = 2\\sigma^4 \\sum_{i\\neq j}B_{ij}^2 + \\left(\\mathbb{E}\\left[u^4\\right] - \\sigma^4\\right)\\sum_{i}B_{ii}^2$, where $\\text{var}$ denotes [variance](https://en.wikipedia.org/wiki/Variance)."
      ]
    },
    {
      "cell_type": "markdown",
      "source": [],
      "metadata": {
        "id": "64Izf8pHvq7J"
      }
    },
    {
      "cell_type": "markdown",
      "metadata": {
        "id": "vymc7lvsSpqC"
      },
      "source": [
        "3. Find the variance for the case when:\n",
        "\n",
        "  a. each $u_{i}\\sim \\mathcal{N}(0, \\sigma^2)$, i.e., for normally distributed with zero mean and variance $\\sigma^2$;\n",
        "\n",
        "  b. each $u_{i}$ follows [Rademacher distribution](https://en.wikipedia.org/wiki/Rademacher_distribution);"
      ]
    },
    {
      "cell_type": "markdown",
      "source": [
        "**Solution:**\n",
        "\n",
        "a. For normal distribution $\\mathbb{E}u^4 = \\sigma^4 (4 - 1)!! = 3\\sigma^4 \\Rightarrow$  $\\text{var}\\left[u^\\top B u\\right] = 2\\sigma^4 \\sum_{i\\neq j}B_{ij}^2 + 2\\sigma^4\\sum_{i}B_{ii}^2 = 2 \\sigma^4 \\| B \\|_F^2$\n",
        "\n",
        "b. If $u$ is a Rademacher distributed random variable, then the random variable $u^4$ takes only one value $(-1)^4 = 1^4 = 1$, therefore $\\mathbb{E}u^4 = 1 \\Rightarrow \n",
        "\\text{var}\\left[u^\\top B u\\right] = 2\\sigma^4 \\sum_{i\\neq j}B_{ij}^2 = 2 \\left(\\| B \\|_F^2  - \\sum_i B_{ii}^2\\right)$.\n"
      ],
      "metadata": {
        "id": "JoC1n142Jr9d"
      }
    },
    {
      "cell_type": "markdown",
      "metadata": {
        "id": "_g6jeeJBmiAI"
      },
      "source": [
        "4. Why variance matters.\n",
        "  \n",
        "  Let $z_1, \\dots, z_N$ are independent identicaly distributed samples of random variable with mean $\\mu$ and variance $\\sigma^2$ and $\\hat{\\mu} = \\frac{1}{N}\\sum_{i=1}^{N} z_{i}$ is a standard Monte Carlo extimator for mean.\n",
        "\n",
        "  a. Show that $\\mathbb{E}\\left[\\hat{\\mu}\\right] = \\mu$ and $\\text{var}\\left[\\hat{\\mu}\\right] = \\sigma^2 \\big/ N$.\n",
        "\n",
        "  b. Use [Chebyshev inequality](https://en.wikipedia.org/wiki/Chebyshev%27s_inequality) to find the number of samples $N$ you need to use to guarante that estimate $\\hat{\\mu}$ deviates from $\\mu$ on $\\epsilon\\ll 1$ with probability at most $\\delta\\ll 1$."
      ]
    },
    {
      "cell_type": "markdown",
      "source": [
        "**Solution:**\n",
        "\n",
        "a. $\\mathbb{E}\\left[\\hat{\\mu}\\right] = \\mathbb{E} \\left[\\frac{1}{N}\\sum_{i=1}^{N} z_{i} \\right] = \\frac{1}{N}\\sum_{i=1}^{N} \\mathbb{E} \\left[z_{i} \\right] =\\frac{1}{N}\\sum_{i=1}^{N} \\mu = \\mu $\n",
        "\n",
        "$\\operatorname{Var}[\\hat{\\mu}]=\\frac{1}{N^2} \\sum_{i=1}^N \\operatorname{Var}\\left[z_i\\right]=\\frac{N \\sigma^2}{N^2}=\\frac{\\sigma^2}{N}$\n",
        "\n",
        "b. Probability of the estimate $\\hat{\\mu}$ deviate from $\\mu$ on $\\varepsilon$ is given by:\n",
        "\\begin{aligned}\n",
        "\\operatorname{Pr}(|\\hat{\\mu}-\\mu|<\\varepsilon) \n",
        "& =1-\\operatorname{Pr}(|\\hat{\\mu}-\\mu| \\geqslant \\varepsilon) \\\\\n",
        "& =1-\\operatorname{Pr}\\left(\\mid \\hat{\\mu}-\\mu \\mid \\geqslant \\varepsilon \\sqrt{\\frac{N}{\\sigma^2}} \\sqrt{\\frac{\\sigma^2}{N}} \\right)= \\\\\n",
        "& =1-\\operatorname{Pr}\\left(|\\hat{\\mu}-\\mathbb{E}[\\mu]| \\geqslant \\varepsilon \\sqrt{\\frac{N}{\\sigma^2}} \\cdot \\sqrt{\\operatorname{Var}[\\mu]}\\right) \\geqslant \\\\\n",
        "& \\geqslant 1-\\frac{1}{k^2}   = 1 - \\delta\n",
        "\\end{aligned}\n",
        "\n",
        "where $ k=\\frac{\\varepsilon\\sqrt{N}}{\\sigma} = \\frac{1}{\\sqrt{\\delta}}$ by Chebyshev inequality. In other words for $N \\geqslant \\frac{\\sigma^2}{\\varepsilon^2 \\delta }$ we can guarantee that $\\operatorname{Pr}(|\\hat{\\mu}-\\mu|<\\varepsilon)$ is high. For example, for $\\operatorname{Pr}(|\\hat{\\mu}-\\mu|<\\varepsilon) = \\frac{9}{10}, \\delta = \\frac{1}{10}$ and $N \\geqslant \\frac{10\\sigma^2}{\\varepsilon ^2}$.\n"
      ],
      "metadata": {
        "id": "_KDtgvd0MpXL"
      }
    },
    {
      "cell_type": "markdown",
      "metadata": {
        "id": "dVGZe5pFoWRF"
      },
      "source": [
        "5. Does the variance of the estimator matters?\n",
        "\n",
        "  a. Adapt bounds from _Subproblem 1 point 4.b_ for Hutchinson algorithm with normal and Rademacher distributions.\n"
      ]
    },
    {
      "cell_type": "markdown",
      "source": [
        "**Solution:** \n",
        "For  Rademacher distribution $\\sigma^2_{z_k} = 2 \\left(\\| B \\|_F^2  - \\sum_i B_{ii}^2\\right)$ therefore $N = \\frac{\\sigma^2}{\\varepsilon^2 \\delta } = \\frac{2 \\left(\\| B \\|_F^2  - \\sum_i B_{ii}^2\\right)}{\\varepsilon^2 \\delta }$. \n",
        "\n",
        "For normal distribution $\\sigma^2_{z_k} = 2 \\sigma^4 \\| B \\|_F^2$ therefore $N = \\frac{2 \\sigma^4 \\| B \\|_F^2}{\\varepsilon^2 \\delta }$."
      ],
      "metadata": {
        "id": "26H_WWg5TjAf"
      }
    },
    {
      "cell_type": "markdown",
      "source": [
        "\n",
        "  b. Empirically evaluate variances from _Subproblem 1 point 2_ using several sparse, low-rank and circulant matrices."
      ],
      "metadata": {
        "id": "dsuliO_KTj87"
      }
    },
    {
      "cell_type": "code",
      "source": [
        "import numpy as np\n",
        "from scipy.linalg import circulant\n",
        "\n",
        "def get_variances(B, sigma, N_draw):\n",
        "    var_by_formula = 2 * sigma**4 * (np.sum(B * B))\n",
        "\n",
        "    ksi = np.zeros(N_draw)\n",
        "    for i in range(N_draw):\n",
        "        u = np.random.normal(0.0, sigma, B.shape[0])\n",
        "        ksi[i] = u.T @ B @ u\n",
        "    var = np.var(ksi)\n",
        "    return var_by_formula, var\n",
        "\n",
        "N_draw = 1000\n",
        "sigma = 4.0\n",
        "\n",
        "B1 = np.array([[1, 1, 1, 1],\n",
        "              [1, 1, 1, 1],\n",
        "              [1, 1, 1, 1], \n",
        "              [1, 1, 1, 1]])\n",
        "\n",
        "B2 = np.array([[0, 1000, 0, 0],\n",
        "               [0, 0, 10, 0],\n",
        "               [100, 0, 0, 0], \n",
        "               [0, 1, 0, 0]])\n",
        "\n",
        "B3 = circulant([1, 20, 300])\n",
        "B4 = circulant([1, 20, 3000])\n",
        "\n",
        "Bs = [B1, B2, B3, B4]\n",
        "\n",
        "for B in Bs:\n",
        "    var_by_formula, var = get_variances(B, sigma, N_draw)\n",
        "    print(f'B = \\n{B}')\n",
        "    print(f'Estimated variance vs. Theoretical variance : {var:.3f} vs. {var_by_formula}')\n",
        "    print(f'Relative difference = {(np.abs(var - var_by_formula) / var_by_formula):.3f}')"
      ],
      "metadata": {
        "colab": {
          "base_uri": "https://localhost:8080/"
        },
        "id": "yzTk3m-aT80t",
        "outputId": "6f35ef03-c932-49a2-fe38-3827530f24fa"
      },
      "execution_count": null,
      "outputs": [
        {
          "output_type": "stream",
          "name": "stdout",
          "text": [
            "B = \n",
            "[[1 1 1 1]\n",
            " [1 1 1 1]\n",
            " [1 1 1 1]\n",
            " [1 1 1 1]]\n",
            "Estimated variance vs. Theoretical variance : 7599.032 vs. 8192.0\n",
            "Relative difference = 0.072\n",
            "B = \n",
            "[[   0 1000    0    0]\n",
            " [   0    0   10    0]\n",
            " [ 100    0    0    0]\n",
            " [   0    1    0    0]]\n",
            "Estimated variance vs. Theoretical variance : 257351510.748 vs. 517171712.0\n",
            "Relative difference = 0.502\n",
            "B = \n",
            "[[  1 300  20]\n",
            " [ 20   1 300]\n",
            " [300  20   1]]\n",
            "Estimated variance vs. Theoretical variance : 73643883.940 vs. 138855936.0\n",
            "Relative difference = 0.470\n",
            "B = \n",
            "[[   1 3000   20]\n",
            " [  20    1 3000]\n",
            " [3000   20    1]]\n",
            "Estimated variance vs. Theoretical variance : 8759487607.469 vs. 13824615936.0\n",
            "Relative difference = 0.366\n"
          ]
        }
      ]
    },
    {
      "cell_type": "markdown",
      "source": [
        "  c. Comment on practicality of Chebyshev bounds. What is the number of iterations you need to perform to achieve reasonably small error with reasonably large probability according to this bound?"
      ],
      "metadata": {
        "id": "RjtApZ3tToVh"
      }
    },
    {
      "cell_type": "markdown",
      "source": [
        "**Comment:**\n",
        "If $\\delta$ is small this result means that $N \\approx \\frac{1}{\\varepsilon^2}$ of matrix-vector multiplications is needed to estimate trace of a matrix A with precision $\\varepsilon$."
      ],
      "metadata": {
        "id": "9fRD3Jb7TqCM"
      }
    },
    {
      "cell_type": "markdown",
      "metadata": {
        "id": "68qybAGKFlTT"
      },
      "source": [
        "**Subproblem 2 (5 pts)**"
      ]
    },
    {
      "cell_type": "markdown",
      "metadata": {
        "id": "x1PGkyusGAvH"
      },
      "source": [
        "  1. Implement Hutchinson algorithm for normal and Rademacher distributions."
      ]
    },
    {
      "cell_type": "code",
      "source": [
        "import numpy as np\n",
        "\n",
        "def Hutchinson_algorithm(B, N, normal_distribution=True):\n",
        "    trace_estimate = 0\n",
        "    for i in range(N): \n",
        "        if normal_distribution:\n",
        "            u = np.random.normal(0.0, 1.0, B.shape[0])\n",
        "        else: \n",
        "            u = np.random.binomial(size=B.shape[0], n=1, p=0.5)\n",
        "            u = np.where(u == 0, -1, 1)\n",
        "        trace_estimate += u.T @ B @ u\n",
        "    return trace_estimate / N"
      ],
      "metadata": {
        "id": "6MbeSwgbSmn7"
      },
      "execution_count": null,
      "outputs": []
    },
    {
      "cell_type": "markdown",
      "metadata": {
        "id": "JGYWRk5aFoY7"
      },
      "source": [
        "2. Evaluate your algorithm on several matrices on your choice."
      ]
    },
    {
      "cell_type": "code",
      "source": [
        "epsilon = 0.1\n",
        "N = int(1.0 / epsilon**2)\n",
        "print('N = ', N)\n",
        "\n",
        "B = np.random.rand(3000, 3000)\n",
        "print(f'Real value {np.trace(B):.3f}')\n",
        "print(f'Estimation {Hutchinson_algorithm(B, N, normal_distribution=True)} (Normal distribution)')\n",
        "print(f'Estimation {Hutchinson_algorithm(B, N, normal_distribution=False):.3f} (Rademacher distribution)')"
      ],
      "metadata": {
        "colab": {
          "base_uri": "https://localhost:8080/"
        },
        "id": "1Tzg3lmcTSLk",
        "outputId": "d850edd9-50b2-4577-aee4-42e6ba57024f"
      },
      "execution_count": null,
      "outputs": [
        {
          "output_type": "stream",
          "name": "stdout",
          "text": [
            "N =  99\n",
            "Real value 1495.538\n",
            "Estimation 1386.5756964689147 (Normal distribution)\n",
            "Estimation 1734.391 (Rademacher distribution)\n"
          ]
        }
      ]
    },
    {
      "cell_type": "code",
      "source": [
        "epsilon = 0.1\n",
        "N = int(1.0 / epsilon**2)\n",
        "print('N = ', N)\n",
        "\n",
        "B = np.ones((300, 300))\n",
        "B[0, -1] = -10\n",
        "B[-1, 0] = -10\n",
        "print(f'Real value {np.trace(B):.3f}')\n",
        "print(f'Estimation {Hutchinson_algorithm(B, N, normal_distribution=True)} (Normal distribution)')\n",
        "print(f'Estimation {Hutchinson_algorithm(B, N, normal_distribution=False):.3f} (Rademacher distribution)')"
      ],
      "metadata": {
        "colab": {
          "base_uri": "https://localhost:8080/"
        },
        "id": "BxMtSj_GwpHv",
        "outputId": "7a0a49df-49bf-4e32-a314-a567f403f2a3"
      },
      "execution_count": null,
      "outputs": [
        {
          "output_type": "stream",
          "name": "stdout",
          "text": [
            "N =  99\n",
            "Real value 300.000\n",
            "Estimation 316.4531295640869 (Normal distribution)\n",
            "Estimation 321.596 (Rademacher distribution)\n"
          ]
        }
      ]
    },
    {
      "cell_type": "markdown",
      "metadata": {
        "id": "pIL61RpEFqnJ"
      },
      "source": [
        "**Subproblem 3 (5 pts)**"
      ]
    },
    {
      "cell_type": "markdown",
      "metadata": {
        "id": "hzBjryHu4EhR"
      },
      "source": [
        "Is it possible to obtain better bound? Here we study how to do that for simplified case."
      ]
    },
    {
      "cell_type": "markdown",
      "metadata": {
        "id": "ihVhxbSuFxPL"
      },
      "source": [
        "Let $A$ be the $N\\times N$ matrix with all entries equal one, i.e., $A_{ij}=1$. We consider variant of Hutchinson algorithm with standard normal variables, i.e., $u_{i} \\sim \\mathcal{N}(0, 1)$.\n"
      ]
    },
    {
      "cell_type": "markdown",
      "metadata": {
        "id": "2guyMtm5Fz8U"
      },
      "source": [
        "1. Show that $u^\\top A u \\big/ N$ has [chi-squared distribution](https://en.wikipedia.org/wiki/Chi-squared_distribution)."
      ]
    },
    {
      "cell_type": "markdown",
      "source": [
        "\\begin{equation}\n",
        "\\frac{1}{N}\\left(u^{\\top} A u\\right)=\\frac{1}{N} \\sum_{i=1}^N \\sum_{j=1}^N A_{i j} u_i u_j=\\frac{1}{N} \\sum_{i=1}^N \\sum_{j=1}^N u_i u_j =\\frac{1}{N}\\left(u_1+\\ldots+u_N\\right)^2=\\left(\\frac{u_1+\\ldots+u_N}{\\sqrt{N}}\\right)^2\n",
        "\\end{equation}\n",
        "Random variable $\\xi = \\frac{u_1}{\\sqrt{N}} + \\cdots \\frac{u_N}{\\sqrt{N}}$ has distribution $\\mathcal{N}(\\frac{0 \\cdot N}{\\sqrt{N}}, \\frac{1 \\cdot N}{N}) = \\mathcal{N}(0, 1)$ as sum of $N$ i.i.d normal random variables $\\frac{u_i}{\\sqrt{N}}$ with mean 0 and variance 1. Therefore random variable $X = \\xi^2 = u^{\\top} A u \\big/ N$ has chi-squared distribution with 1 degree of freedom, or $X \\sim \\chi^2_1$."
      ],
      "metadata": {
        "id": "CIcBm1W0Val9"
      }
    },
    {
      "cell_type": "markdown",
      "metadata": {
        "id": "v483XTyCF4Ks"
      },
      "source": [
        "2. Suppose that Hutchinson algorithm is applied for $M$ iteration. Show that $\\sum_{i=1}^{M}u_i^\\top A u_i \\big/ N$ has $\\chi^2(M)$ distribution (chi-squared distribution with $M$ degrees of freedom)."
      ]
    },
    {
      "cell_type": "markdown",
      "source": [
        "Random variable $\\zeta = \\sum_{i=1}^{M}u_i^\\top A u_i \\big/ N = \\sum_{i=1}^{M}X_i $ is a sum of $M$ independent chi-squared distributed random variables $X_i \\sim \\chi^2_1$. Therefore $\\zeta \\sim \\chi^2_{1 + 1 \\cdots + 1} = \\chi^2_{M}$ due to additivity of chi-squared distribution."
      ],
      "metadata": {
        "id": "1kF7tvjDVbQL"
      }
    },
    {
      "cell_type": "markdown",
      "metadata": {
        "id": "Yru4LU68F6JT"
      },
      "source": [
        "3. Let $M\\geq50$, $G_{M} = \\sum_{i=1}^{N}u_i^\\top A u_i \\big/ M$ and suppose that $\\chi^2(M)$ has approximately normal distribution. Under this assumptions show that there exists small $\\delta$ such that $\\text{Pr}\\left(\\left|G_{M} - \\text{tr}(A)\\right| \\leq \\epsilon \\text{tr}(A)\\right) \\geq 1 - \\delta $."
      ]
    },
    {
      "cell_type": "markdown",
      "source": [
        "$G_M \\sim \\chi^2_M$ with $\\mathbb{E}G_M = M$ and $\\operatorname{Var}G_M = 2M$. For large $M$ it is almost normally distributed, therefore the cumulative distribution function $F_{G_M}(x)=\\mathrm{P}(G_M \\leq x)$ is the integral $\\Phi\\left(\\frac{x-\\mu}{\\sigma}\\right)=\\frac{1}{2}\\left[1+\\operatorname{erf}\\left(\\frac{x-\\mu}{\\sigma \\sqrt{2}}\\right)\\right] = \\frac{1}{2}\\left[1+\\operatorname{erf}\\left(\\frac{x-M}{2\\sqrt{M}}\\right)\\right]$, where $\\operatorname{erf}(x)=\\frac{2}{\\sqrt{\\pi}} \\int_0^x e^{-t^2} d t$.\n",
        "\n",
        "\\begin{aligned}\n",
        "\\operatorname{Pr}\\left(\\left|G_M-N \\right|< N \\varepsilon \\right) &= \n",
        "\\operatorname{Pr}\\left(N-N \\varepsilon< G_M< N+N \\varepsilon\\right) \\\\ &\n",
        "= F_{G_M}(N + N\\varepsilon ) - F_{G_M}( N -  N\\varepsilon ) = \\\\ &\n",
        "= \\frac{1}{2}\\operatorname{erf}\\left(\\frac{N + N\\varepsilon -M}{2\\sqrt{M}}\\right) - \\frac{1}{2}\\operatorname{erf}\\left(\\frac{N - N\\varepsilon -M}{2\\sqrt{M}}\\right) = \\\\ & \n",
        "= \\frac{1}{\\sqrt{\\pi}} \\int_0^{\\frac{N + N\\varepsilon -M}{2\\sqrt{M}}} e^{-t^2} d t - \\frac{1}{\\sqrt{\\pi}} \\int_0^{\\frac{N - N\\varepsilon -M}{2\\sqrt{M}}} e^{-t^2} d t \\\\ &\n",
        "= \\frac{1}{\\sqrt{\\pi}} \\int_{\\frac{N - N\\varepsilon -M}{2\\sqrt{M}}}^{\\frac{N + N\\varepsilon -M}{2\\sqrt{M}}} e^{-t^2} d t \n",
        "\\end{aligned}\n",
        "\n",
        "For matrix $A_{ij} = 1$ trace is equal to $N$ therefore, we can rewrite expression above:\n",
        "\n",
        "\\begin{aligned}\n",
        "\\operatorname{Pr}\\left(\\left|G_M - \\operatorname{tr}A \\right|<  \\varepsilon \\operatorname{tr}A \\right) \n",
        "= \\frac{1}{\\sqrt{\\pi}} \\int_{\\frac{N - N\\varepsilon -M}{2\\sqrt{M}}}^{\\frac{N + N\\varepsilon -M}{2\\sqrt{M}}} e^{-t^2} d t \n",
        "\\end{aligned}\n",
        "\n",
        "Qualitatively, when number of trials $M$ is close to matrix size $N$ $\\left( M \\rightarrow N \\right)$ the probability that $G_M$ is *very* (in a sense of the relative error $ \\varepsilon \\rightarrow 0$) close to $\\operatorname{tr} A$ goes to zero (lower and upper bounds of the integral go to $\\pm \\frac{N \\varepsilon}{2 \\sqrt{M}} \\rightarrow 0$)."
      ],
      "metadata": {
        "id": "VXJr1teiVb4O"
      }
    },
    {
      "cell_type": "markdown",
      "metadata": {
        "id": "gCfoFxTiyplo"
      },
      "source": [
        "It is possible to generalize bound from Subproblem 3 point 3 and the result can be found in the paper by Avron and Toledo (2010)."
      ]
    },
    {
      "cell_type": "markdown",
      "metadata": {
        "id": "0WhI2bbzM7Df"
      },
      "source": [
        "---\n",
        "\n",
        "Another similar bound that we state without a proof involves Frobenius norm.\n",
        "\n",
        "For Hutchinson estimate with $l$ steps denoted $T_l$, $\\delta \\in (0, 1/2]$ for fixed constants $c$ and $C$\n",
        "\n",
        "\\begin{equation}\n",
        "  \\text{Pr}\\left(\\left|T_{l} - \\text{tr}(A)\\right|\\leq C \\sqrt{\\frac{\\log(1/\\delta)}{l}}\\left\\|A\\right\\|_{F}\\right) \\geq 1 - \\delta.\n",
        "\\end{equation}"
      ]
    },
    {
      "cell_type": "markdown",
      "metadata": {
        "id": "woLFVgFGP9Xk"
      },
      "source": [
        "## Improved Hutchinson algorithms"
      ]
    },
    {
      "cell_type": "markdown",
      "metadata": {
        "id": "0NwxTEP6eyFp"
      },
      "source": [
        "There are a lot of improved version of Hutchinson algorithms.\n",
        "\n",
        "One fruitful idea is to represent the matrix $A$ as a sum $A = A_1 + A_2$ in such a way that $A_1$ has easy-to-compute trace and $\\left\\|A_2\\right\\|_F^2 \\ll \\left\\|A_1\\right\\|_F^2$ or $\\text{tr}(A_2) \\ll \\text{tr}(A_1)$ if both $A_1$ and $A_2$ are spd matrices.\n",
        "\n",
        "If this splitting is possible to construct, one has smaller one-sample variance or better $(\\epsilon, \\delta)$-estimator.\n",
        "\n",
        "Below we ask you to prove simple theoretical result on the systematic construction of such splittings."
      ]
    },
    {
      "cell_type": "markdown",
      "metadata": {
        "id": "pTGLQf-WFN1B"
      },
      "source": [
        "**Subproblem 4 (5 pts)**"
      ]
    },
    {
      "cell_type": "markdown",
      "metadata": {
        "id": "oNdbqNpnFNiT"
      },
      "source": [
        "Let $A\\in\\mathbb{R}^{N\\times N}$ be symmetric positive definite matrix and $Q\\in\\mathbb{R}^{N\\times k}$ contains $k$ eigenvalues corresponding to top $k$ eigenvalues, i.e., $\\lambda_1 \\leq \\lambda_2\\leq\\dots\\leq \\lambda_k\\leq\\lambda_{k+1}\\leq \\dots \\leq \\lambda_{N}$ eigenvalues are ordered and $Q_{\\star 1}, \\dots Q_{\\star k}$ are eigenvectors with eigenvalues $\\lambda_{N-k},\\dots,\\lambda_{N}$."
      ]
    },
    {
      "cell_type": "markdown",
      "metadata": {
        "id": "3L0H9ZGmKVU4"
      },
      "source": [
        "1. Show that $\\text{tr}\\left(A\\right) = \\text{tr}\\left(Q^T A Q\\right) + \\text{tr}\\left((I - QQ^T)A (I - QQ^T)\\right)$.\n",
        "\n",
        "\n"
      ]
    },
    {
      "cell_type": "markdown",
      "source": [
        "**Solution:**\n",
        "\n",
        "\\begin{aligned}\n",
        "\\operatorname{tr}\\left(\\left(I-Q Q^{\\top}\\right) A\\left(I-Q Q^{\\top}\\right)\\right) & =  \\operatorname{tr}\\left(A-A Q Q^{\\top}-QQ^{\\top} A+QQ^{\\top} A Q Q^{\\top}\\right) = \n",
        "\\\\ & =\n",
        "\\operatorname{tr}(A)-\\operatorname{tr}\\left(A Q Q^{\\top}\\right)-\\operatorname{tr}\\left(Q Q^{\\top} A\\right)+\\operatorname{tr}\\left(QQ^{\\top} A Q Q^{\\top}\\right)\n",
        "\\\\ & =\n",
        "\\operatorname{tr}(A)-\\operatorname{tr}\\left(A Q Q^{\\top}\\right)-\\operatorname{tr}\\left(A Q Q^{\\top}\\right)+\\operatorname{tr}\\left(A Q Q^{\\top} QQ^{\\top} \\right)\n",
        "\\\\ & =\n",
        "\\operatorname{tr}(A)-\\operatorname{tr}\\left(A Q Q^{\\top}\\right)-\\operatorname{tr}\\left(A Q Q^{\\top}\\right)+\\operatorname{tr}\\left(A Q I_{k \\times k}Q^{\\top} \\right)\n",
        "\\\\ & =\n",
        "\\operatorname{tr}(A)-\\operatorname{tr}\\left(A Q Q^{\\top}\\right)\n",
        "\\end{aligned}\n",
        "\n",
        "Here we used 1) linearity of the trace operator, 2) cyclic property of the trace operator and 3) the fact that $k-$top eigenvectors are orthonormal.\n",
        "\n",
        "Therefore  $\\text{tr}\\left(A\\right) = \\text{tr}\\left(Q^T A Q\\right) + \\text{tr}\\left((I - QQ^T)A (I - QQ^T)\\right)$"
      ],
      "metadata": {
        "id": "-i883zpNVdS9"
      }
    },
    {
      "cell_type": "markdown",
      "metadata": {
        "id": "rQoaw5ejFM22"
      },
      "source": [
        "2. Show that $\\left\\|(I - QQ^T)A (I - QQ^T)\\right\\|_{F} \\leq \\frac{1}{\\sqrt{k}}\\text{tr}\\left(A\\right)$."
      ]
    },
    {
      "cell_type": "markdown",
      "source": [],
      "metadata": {
        "id": "hJ1nQVeEVeo0"
      }
    },
    {
      "cell_type": "markdown",
      "metadata": {
        "id": "eQlENLuRLCBh"
      },
      "source": [
        "3. Show that for any spd matrix $\\left\\|A\\right\\|_{F} \\leq \\text{tr}(A)$."
      ]
    },
    {
      "cell_type": "markdown",
      "source": [
        "**Solution:**\n",
        "\\begin{aligned} \n",
        "\\|A\\|_F=\\sqrt{\\operatorname{tr}\\left(A^{\\top} A\\right)}\n",
        "& =\\sqrt{\\operatorname{tr}\\left(U \\Lambda U^{\\top} U \\Lambda U^{\\top}\\right)} \\\\\n",
        "& =\\sqrt{\\operatorname{tr}\\left(\\Lambda U^{\\top} U \\Lambda U^{\\top}U\\right)}= \\\\\n",
        "& =\\sqrt{\\operatorname{tr}\\left(\\Lambda^2\\right)}= \\\\\n",
        "& =\\sqrt{\\lambda_1^2+\\ldots+\\lambda_n^2} \\leqslant \\\\ \n",
        "& \\leqslant \\sqrt{\\left(\\lambda_1^2+\\ldots+\\lambda_n^2 \\right)+ \\lambda_1\\lambda_2 + \\ldots + \\lambda_1\\lambda_n + \\ldots + \\lambda_{n-1}\\lambda_1 + \\ldots \\lambda_{n-1}\\lambda_n} \\\\\n",
        "& =\\sqrt{\\left(\\lambda_1+\\ldots+\\lambda_n \\right)^2}= \\operatorname{tr} \\left(A\\right)\n",
        "\\end{aligned}\n",
        "\n",
        "Here we used 1) spectral decomposition $A = U \\Lambda U^{\\top}$ for symmetric positive definite matrix $A$, 2) cyclic property of trace operator, 3) $U U^{\\top} = U^{\\top} U = I$ for unitary matrices, 4) $\\Lambda$ is a diagonal matrix with eigenvalues of A, 5) all eigenvalues are positive, so we can add terms $\\lambda_i \\lambda_j > 0$ to make it squared sum of $\\lambda_i $."
      ],
      "metadata": {
        "id": "EHRj_3nPVfJQ"
      }
    },
    {
      "cell_type": "markdown",
      "metadata": {
        "id": "Tjd_crvCOV7u"
      },
      "source": [
        "4. Use 2. and 3. and the bound for Hutchinson algorithm with Frobenius norm above to show that if $k \\simeq 1/\\epsilon$ one only needs $l\\simeq 1/\\epsilon$ steps in place of $1/\\epsilon^2$ for a given tolerance."
      ]
    },
    {
      "cell_type": "markdown",
      "source": [],
      "metadata": {
        "id": "HAlX-8S9Vf3D"
      }
    },
    {
      "cell_type": "markdown",
      "metadata": {
        "id": "yJWyFEirPSCr"
      },
      "source": [
        "The simple analysis above suggests the following improved Hutchinson algorithm:\n",
        "\n",
        "    trace_estimate = 0\n",
        "    Q = []\n",
        "    for i=1:m/3 do\n",
        "        u = random_vector\n",
        "        Q = [Q, u] # stack vectors\n",
        "    end do\n",
        "    Q = orthonormal basis for columns of AQ\n",
        "    tr_1 = trace(Q^T A Q) # compute exactly\n",
        "    tr_2 = approximate tr(I - QQ^T)A(I - QQ^T) with Hutchinson algorithm m/3 steps\n",
        "    tr = tr_1 + tr_2\n",
        "\n",
        "\n",
        "Observe that we substituted true eigenvalues with orthonormal basis. You may consider this a one-sweep power estimation of eigenvalues."
      ]
    },
    {
      "cell_type": "markdown",
      "metadata": {
        "id": "yF4ETwahQnJo"
      },
      "source": [
        "**Subproblem 5 (5 pts)**"
      ]
    },
    {
      "cell_type": "markdown",
      "metadata": {
        "id": "LNZdCBUzQ7R5"
      },
      "source": [
        "1. Implement improved Hutchinson algorithm. Note that the \"algorithm\" above is rather sketchy. Make sure to introduce improvements where needed."
      ]
    },
    {
      "cell_type": "code",
      "source": [
        "def improved_Hutchinson_algorithm(A, m):\n",
        "    Q = np.random.binomial(size=(A.shape[0], m // 3), n=1, p=0.5)\n",
        "    Q = np.where(Q == 0, -1, 1)\n",
        "    # Get orthonormal basis for columns of AQ\n",
        "    Q, _ = np.linalg.qr(A @ Q)\n",
        "    # Compute trace exactly (2*m//3 matvecs)\n",
        "    tr_1 = np.trace(Q.T @ A @ Q)\n",
        "    # Approximate with Hutchinson algorithm (m//3 matvecs)\n",
        "    F = np.eye(Q.shape[0], Q.shape[0]) - Q @ Q.T\n",
        "    tr_2 = Hutchinson_algorithm(F @ A @ F, m // 3, normal_distribution=False)\n",
        "    return tr_1 + tr_2"
      ],
      "metadata": {
        "id": "C-XL7N3ZFeam"
      },
      "execution_count": null,
      "outputs": []
    },
    {
      "cell_type": "markdown",
      "metadata": {
        "id": "96ELk5qrRA4M"
      },
      "source": [
        "2. Evaluate you algorithm on several matrices on your choice."
      ]
    },
    {
      "cell_type": "code",
      "source": [
        "A = np.array([[1, 1, 1, 0.01],\n",
        "              [1, 1, 1, 1],\n",
        "              [1, 1, 1, 1], \n",
        "              [100, 1, 1, 1]])\n",
        "m = 3\n",
        "print(f'Real value {np.trace(A):.3f}')\n",
        "print(f'Estimation {improved_Hutchinson_algorithm(A, m)}')"
      ],
      "metadata": {
        "colab": {
          "base_uri": "https://localhost:8080/"
        },
        "id": "_AT33TpT1SUF",
        "outputId": "ff9fead4-fabc-4ea7-aff3-b30fcac3319e"
      },
      "execution_count": null,
      "outputs": [
        {
          "output_type": "stream",
          "name": "stdout",
          "text": [
            "Real value 4.000\n",
            "Estimation 5.76810518898882\n"
          ]
        }
      ]
    },
    {
      "cell_type": "code",
      "source": [
        "B = np.random.rand(3000, 3000)\n",
        "m = 30\n",
        "print(f'Real value {np.trace(B):.3f}')\n",
        "print(f'Estimation {improved_Hutchinson_algorithm(B, m)}')"
      ],
      "metadata": {
        "colab": {
          "base_uri": "https://localhost:8080/"
        },
        "id": "eRkBxXuN1Aeh",
        "outputId": "36a029e4-b77e-4bfb-8906-f7098725f007"
      },
      "execution_count": null,
      "outputs": [
        {
          "output_type": "stream",
          "name": "stdout",
          "text": [
            "Real value 1496.772\n",
            "Estimation 1415.9343399985587\n"
          ]
        }
      ]
    },
    {
      "cell_type": "markdown",
      "metadata": {
        "id": "91Fi_NhTRRgO"
      },
      "source": [
        "## Comparison of Hutchinson and improved Hutchinson algorithms"
      ]
    },
    {
      "cell_type": "markdown",
      "metadata": {
        "id": "jxC1FEI7RVhv"
      },
      "source": [
        "**Subproblem 6 (5 pts)**"
      ]
    },
    {
      "cell_type": "markdown",
      "metadata": {
        "id": "DIOKzFX-RXdR"
      },
      "source": [
        "Produce plots y-axis = relative trace error estimation, x-axis = number of matrix-vector products for original Hutchinson algorithm and for the improved version for the following cases:"
      ]
    },
    {
      "cell_type": "markdown",
      "metadata": {
        "id": "KTj02b_UR0Nb"
      },
      "source": [
        "1. Random matrices on your choice. Suggestions: [randn](https://numpy.org/doc/stable/reference/random/generated/numpy.random.randn.html), [random sparse](https://docs.scipy.org/doc/scipy/reference/generated/scipy.sparse.random.html)."
      ]
    },
    {
      "cell_type": "code",
      "source": [
        "from scipy.sparse import random\n",
        "A = random(4000, 4000, density=0.25)\n",
        "A = (A + A.T) / 2\n",
        "A = A.A"
      ],
      "metadata": {
        "id": "w7mmjeX91XCb"
      },
      "execution_count": null,
      "outputs": []
    },
    {
      "cell_type": "code",
      "source": [
        "import matplotlib.pyplot as plt\n",
        "\n",
        "rel_err = []\n",
        "rel_err_improved = []\n",
        "\n",
        "Ns_matvec_products = 3 * np.around(np.geomspace(1, 1000, num=10)).astype(int)\n",
        "\n",
        "for N_matvec_products in Ns_matvec_products:\n",
        "    trace_estimate = Hutchinson_algorithm(A, N_matvec_products, normal_distribution=False)\n",
        "    trace_estimate_improved = improved_Hutchinson_algorithm(A, N_matvec_products)\n",
        "    trace = np.trace(A)\n",
        "\n",
        "    rel_err.append(np.abs(trace_estimate - trace) / trace)\n",
        "    rel_err_improved.append(np.abs(trace_estimate_improved - trace) / trace)\n",
        "\n",
        "\n",
        "plt.plot(Ns_matvec_products, rel_err, color='black', label='Hutchinson')\n",
        "plt.plot(Ns_matvec_products, rel_err_improved, color='red',  label='Improved Hutchinson')\n",
        "plt.xlabel(\"Number of iterations\", fontsize=14)\n",
        "plt.ylabel(\"Relative trace estimation error\", fontsize=14)\n",
        "plt.title(\"Comparison of the algorithms for a random matrix\")\n",
        "plt.xscale('log')\n",
        "plt.yscale('log')\n",
        "plt.legend();"
      ],
      "metadata": {
        "colab": {
          "base_uri": "https://localhost:8080/",
          "height": 302
        },
        "id": "oYIIfc_D4N4F",
        "outputId": "587acf1a-ecb0-4c2c-8571-eabe35217c2a"
      },
      "execution_count": null,
      "outputs": [
        {
          "output_type": "display_data",
          "data": {
            "text/plain": [
              "<Figure size 432x288 with 1 Axes>"
            ],
            "image/png": "[encoded data removed]"
          },
          "metadata": {
            "needs_background": "light"
          }
        }
      ]
    },
    {
      "cell_type": "markdown",
      "metadata": {
        "id": "OekedwEcSJVa"
      },
      "source": [
        "2. For random spd matrices with eigenvalues $\\lambda_i = i^{-\\alpha}$ for several $\\alpha$, i.e., for matrices with fast- and slow-decaying spectrum."
      ]
    },
    {
      "cell_type": "code",
      "source": [
        "n_dim = 4000\n",
        "alpha = -3.0\n",
        "A = np.random.uniform(size=(n_dim, n_dim))\n",
        "U, _, Vt = np.linalg.svd(A.T @ A)\n",
        "W_squared = np.diag(np.power(np.arange(1, n_dim+1, 1), alpha))\n",
        "B = np.transpose(U @ np.sqrt(W_squared) @ Vt) @ (U @ np.sqrt(W_squared) @ Vt)\n",
        "# Now matrix B is symmetric positive definite with spectrum given by W_squared"
      ],
      "metadata": {
        "id": "b01GCGAAoSd3"
      },
      "execution_count": null,
      "outputs": []
    },
    {
      "cell_type": "code",
      "source": [
        "import matplotlib.pyplot as plt\n",
        "\n",
        "rel_err = []\n",
        "rel_err_improved = []\n",
        "\n",
        "Ns_matvec_products = 3 * np.around(np.geomspace(1, 1000, num=10)).astype(int)\n",
        "\n",
        "for N_matvec_products in Ns_matvec_products:\n",
        "    trace_estimate = Hutchinson_algorithm(B, N_matvec_products, normal_distribution=False)\n",
        "    trace_estimate_improved = improved_Hutchinson_algorithm(B, N_matvec_products)\n",
        "    trace = np.trace(B) # = W_squared.sum()\n",
        "\n",
        "    rel_err.append(np.abs(trace_estimate - trace) / trace)\n",
        "    rel_err_improved.append(np.abs(trace_estimate_improved - trace) / trace)\n",
        "\n",
        "\n",
        "plt.plot(Ns_matvec_products, rel_err, color='black', label='Hutchinson')\n",
        "plt.plot(Ns_matvec_products, rel_err_improved, color='red', label='Improved Hutchinson')\n",
        "plt.xlabel(\"Number of iterations\", fontsize=14)\n",
        "plt.ylabel(\"Relative trace estimation error\", fontsize=14)\n",
        "plt.title(f\"For matrix with fast decaying spectrum, alpha = {alpha}\")\n",
        "plt.xscale('log')\n",
        "plt.yscale('log')\n",
        "plt.legend();"
      ],
      "metadata": {
        "colab": {
          "base_uri": "https://localhost:8080/",
          "height": 302
        },
        "id": "CTNgBEdCeoSA",
        "outputId": "af6f96d8-9e34-4995-eab4-22d6a7ff287c"
      },
      "execution_count": null,
      "outputs": [
        {
          "output_type": "display_data",
          "data": {
            "text/plain": [
              "<Figure size 432x288 with 1 Axes>"
            ],
            "image/png": "[encoded data removed]"
          },
          "metadata": {
            "needs_background": "light"
          }
        }
      ]
    },
    {
      "cell_type": "code",
      "source": [
        "n_dim = 4000\n",
        "alpha = -0.1\n",
        "A = np.random.uniform(size=(n_dim, n_dim))\n",
        "U, _, Vt = np.linalg.svd(A.T @ A)\n",
        "W_squared = np.diag(np.power(np.arange(1, n_dim+1, 1), alpha))\n",
        "B = np.transpose(U @ np.sqrt(W_squared) @ Vt) @ (U @ np.sqrt(W_squared) @ Vt)\n",
        "# Now matrix B is symmetric positive definite with spectrum given by W_squared\n",
        "\n",
        "rel_err = []\n",
        "rel_err_improved = []\n",
        "\n",
        "Ns_matvec_products = 3 * np.around(np.geomspace(1, 1000, num=10)).astype(int)\n",
        "\n",
        "for N_matvec_products in Ns_matvec_products:\n",
        "    trace_estimate = Hutchinson_algorithm(B, N_matvec_products, normal_distribution=False)\n",
        "    trace_estimate_improved = improved_Hutchinson_algorithm(B, N_matvec_products)\n",
        "    trace = np.trace(B) # = W_squared.sum()\n",
        "\n",
        "    rel_err.append(np.abs(trace_estimate - trace) / trace)\n",
        "    rel_err_improved.append(np.abs(trace_estimate_improved - trace) / trace)\n",
        "\n",
        "\n",
        "plt.plot(Ns_matvec_products, rel_err, color='black', label='Hutchinson')\n",
        "plt.plot(Ns_matvec_products, rel_err_improved, color='red', label='Improved Hutchinson')\n",
        "plt.xlabel(\"Number of iterations\", fontsize=14)\n",
        "plt.ylabel(\"Relative trace estimation error\", fontsize=14)\n",
        "plt.title(f\"For matrix with slow decaying spectrum, alpha = {alpha}\")\n",
        "plt.xscale('log')\n",
        "plt.yscale('log')\n",
        "plt.legend();"
      ],
      "metadata": {
        "colab": {
          "base_uri": "https://localhost:8080/",
          "height": 302
        },
        "id": "bF9mGW8Thh-8",
        "outputId": "50393471-d0a2-44f2-b969-c4c3aadadf71"
      },
      "execution_count": null,
      "outputs": [
        {
          "output_type": "display_data",
          "data": {
            "text/plain": [
              "<Figure size 432x288 with 1 Axes>"
            ],
            "image/png": "[encoded data removed]"
          },
          "metadata": {
            "needs_background": "light"
          }
        }
      ]
    },
    {
      "cell_type": "markdown",
      "metadata": {
        "id": "oVaJoXyoSYeB"
      },
      "source": [
        "3. Summarize your observations."
      ]
    },
    {
      "cell_type": "markdown",
      "source": [
        "**Solution:** For random sparse matrices the difference between Hutchinson and improved Hutchinson algorithm is insignificant: the same number of matvecs gives the same precision. \n",
        "\n",
        "For matrices with a fast decaying spectrum, the improved algorithm performs much better, but for matrices with a slow decaying spectrum the Hutchinson algorithm leads (on a logarithmic scale, the smaller the relative error line, the better).\n",
        "\n",
        "Indeed, in improved Hutchinson algorithm the error only comes from approximating the trace of 'the spectrum tail', and in case of slow decaying spectrum this error will be high. In case of the fast decaying spectrum we get a good approximation of the trace by exact computations its top eigenvectors.\n"
      ],
      "metadata": {
        "id": "Jmzc5dem4oy8"
      }
    },
    {
      "cell_type": "markdown",
      "metadata": {
        "id": "Dnjw_vPL3SBY"
      },
      "source": [
        "# Problem 3 (Universal adversarial attacks) (18 pts) "
      ]
    },
    {
      "cell_type": "markdown",
      "metadata": {
        "id": "gjOyTA_dm526"
      },
      "source": [
        "## Intro\n",
        "\n",
        "Suppose we have some classification model $f: X \\to Y$ which takes vector $x \\in \\mathbb{R^n}$ and output some label $y$. It appears that deep neural networks are valunable to small imperceptible perturbations called adversarial attacks. Formally, an adversarial attack is the verctor $\\varepsilon \\in \\mathbb{R^n}$ that leads to misclassification: $y(x) \\neq y(x + \\varepsilon)$.\n",
        "\n",
        "<img src=\"https://openai.com/content/images/2017/02/adversarial_img_1.png\" style=\"display=block; margin:auto\">\n",
        "\n",
        "However, it was shown that there exist universal adversarial perturbations: $\\varepsilon \\in \\mathbb{R^n}$ that leads to misclassification $y(x) \\neq y(x + \\varepsilon)$ for most of inputs.\n",
        "\n",
        "The hypetesis is that perturbation of a hidden layer caused by an attack will propagate further in the network changing predicted label of x.\n",
        "\n",
        "Let $f_i$ be the output of $i$-s hidden layer, then\n",
        "$$f_i(x + \\varepsilon) - f(x) \\approx J_i(x)\\varepsilon$$\n",
        "So, to find attack we need to solve the folliwing optimization problem\n",
        "$$\n",
        "\\max_{\\|\\varepsilon\\|_p = 1} \\sum\\limits_{x \\in \\text{batch}}\\|J_i(x)\\varepsilon\\|_q^q\n",
        "$$\n",
        "\n",
        "## Problem discription\n",
        "\n",
        "+ Obtain fixed point iteration to solve the problem above using first order optimality condition. **(5 pts)**\n",
        "+ Suppose additionally that $\\varepsilon$ should be sparse: $\\|\\varepsilon\\|_0 \\leq k$. Correct the algorithm above using additional truncation operator. **(5 pts)**\n",
        "+ Implement algorithms 1 and 2. Find universal perturbations on CIFAR dataset using random batch of size 64. Report fooling rate depending on hyperparameters **(8 pts)**\n",
        "$$\n",
        "\\text{FoolingRate} = \\frac{1}{N}\\sum\\limits_{i = 1}^N \\mathbb{1}[y(x + \\varepsilon) \\neq y(x)]\n",
        "$$\n",
        "\n"
      ]
    },
    {
      "cell_type": "markdown",
      "source": [
        "**Solution:**\n",
        "Let us stack all images in batch vertically and denote it as $X$: \n",
        "$$X = \\left[\\begin{array}{c}\n",
        "x_1 \\\\\n",
        "\\vdots \\\\\n",
        "x_{\\text{batch_size}}\n",
        "\\end{array}\\right]$$\n",
        "$J_i(x)$ is a Jacobian matrix of the $i$-th hidden layer w.r.t. given image $x$, so let us denote vertically stacked Jacobians for given batch as $J_i\\left( X\\right)$ so that in this notation we have a matrix\n",
        "\n",
        "$$ J_i\\left( X\\right) \\varepsilon = \\left[\\begin{array}{c}\n",
        "J_i\\left(x_1\\right) \\varepsilon\\\\\n",
        "\\cdots \\\\\n",
        "J_i\\left(x_{\\text{batch_size}}\\right) \\varepsilon\n",
        "\\end{array}\\right] $$\n",
        "\n",
        "Now we can rewrite the initial optimization problem $$\\max_{\\|\\varepsilon\\|_p = 1} \\sum\\limits_{x \\in \\text{batch}}\\|J_i(x)\\varepsilon\\|_q^q$$ \n",
        "as \n",
        "$$\\max _{\\|\\varepsilon\\|_p=1}\\left\\|J_i(X) \\varepsilon\\right\\|_q^q $$ \n",
        "which is in turn equivalent to \n",
        "$$ \\max _{\\|\\varepsilon\\|_p=1}\\left\\|J_i(X) \\varepsilon\\right\\|_q = \\max _{\\varepsilon} \\frac{\\left\\|J_i(x) \\varepsilon\\right\\|_q}{\\|\\varepsilon\\|_p}$$\n",
        "\n",
        "First order optimality condition (for simplicity we denoted $J_i(X)$ as $A$):\n",
        "$$\\frac{\\partial}{\\partial \\varepsilon_k} \\left( \\frac{\\|A \\varepsilon\\|_{q}}{\\|\\varepsilon\\|_p} \\right) = \n",
        "\\frac{\\|\\varepsilon\\|_p}{\\|\\varepsilon\\|_p^2} \\cdot \\frac{\\partial}{\\partial \\varepsilon_k}\\left(\\|A \\varepsilon\\|_q\\right)-\\frac{\\|A \\varepsilon\\|_q}{\\|\\varepsilon\\|_p^2} \\frac{\\partial}{\\partial \\varepsilon_k}\\left(\\|\\varepsilon\\|_p\\right) = 0 $$\n",
        "\n",
        "For the first term:\n",
        "\\begin{aligned}\n",
        "\\frac{\\partial}{\\partial \\varepsilon_k}\\left(\\|A \\varepsilon\\|_q\\right) =\n",
        "& \\frac{\\partial}{\\partial \\varepsilon_k}\\left(\\sum_i\\left|\\sum_j A_{i j} \\varepsilon_j\\right|^q\\right)^{\\frac{1}{q}}= \\\\\n",
        "& =\\frac{1}{q}\\left(\\left\\|A \\varepsilon\\right\\|_q\\right)^{q \\cdot\\left(\\frac{1}{q}-1\\right)} \\cdot \\sum_i \\frac{\\partial}{\\partial \\varepsilon_k}\\left(\\left|\\sum_j A_{i j} \\varepsilon_j\\right|^q \\right)= \\\\\n",
        "& =\\frac{1}{q}\\left\\|A \\varepsilon\\right\\|_q^{1-q} \\cdot \\sum_i q \\cdot\\left|\\sum_j A_{i j} \\varepsilon_j\\right|^{q-1} \\cdot \\frac{\\partial}{\\partial \\varepsilon_k}\\left|\\sum_j A_{i j} \\varepsilon_j\\right|= \\\\\n",
        "& =\\left\\|A \\varepsilon\\right\\|_q^{1-q} \\cdot \\sum_i \\cdot\\left|\\sum_j A_{i j} \\varepsilon_j\\right|^{q-1} \\cdot \\operatorname{sign} \\left( \\sum_j A_{i j} \\varepsilon_j\\right) \\sum_j A_{i j} \\delta_{jk}= \\\\\n",
        "& =\\left\\|A \\varepsilon\\right\\|_q^{1-q} \\cdot \\sum_i \\cdot\\left|\\sum_j A_{i j} \\varepsilon_j\\right|^{q-1} \\cdot \\operatorname{sign} \\left( \\sum_j A_{i j} \\varepsilon_j\\right) A_{ik}\n",
        "\\end{aligned}\n",
        "\n",
        "For the second:\n",
        "\\begin{equation}\n",
        "\\frac{\\partial}{\\partial \\varepsilon_k}\\|\\varepsilon\\|_p\n",
        "=\\frac{1}{p}\\|\\varepsilon\\|_p^{p\\left(\\frac{1}{p}-1\\right)} \\cdot \\sum_i p\\left|\\varepsilon_i\\right|^{p-1} \\operatorname{sign}\\left(\\varepsilon_i\\right) \\delta_{i k}=\\|\\varepsilon\\|_p^{1-p} \\cdot\\left|\\varepsilon_k\\right|^{p-1} \\operatorname{sign} \\varepsilon_k\n",
        "\\end{equation}\n",
        "\n",
        "Getting it all together:\n",
        "$$\\|\\varepsilon\\|_p \\cdot\\left\\|A\\varepsilon\\right\\|_q^{1-q} \\sum_i\\left|\\sum_j A_{i j} \\varepsilon_j\\right|^{q-1} \\cdot \\operatorname{sign}\\left(\\sum_j A_{i j} \\varepsilon_j\\right) \\cdot A_{i k}= \\|A \\varepsilon\\|_q \\cdot\\|\\varepsilon\\|_p^{1-p}\\left|\\varepsilon_k\\right|^{p-1} \\operatorname{sign} \\varepsilon_k$$\n",
        "\n",
        "$$\\|A \\varepsilon\\|_q^{-q} \\cdot\\|\\varepsilon\\|_p^p \\cdot \\sum_i A_{k i}^{\\top}\\left|\\sum_j A_{i j} \\varepsilon_j\\right|^{q-1} \\cdot \\operatorname{sign}\\left(\\sum_j A_{i j} \\varepsilon_j\\right) = \\operatorname{sign} \\varepsilon_k \\left|\\varepsilon_k\\right|^{p-1}$$\n",
        "\n",
        "Let's introduce the function of the derivative of modulus in $p$-th power: $\\psi_p(x)=\\operatorname{sign} x|x|^{p-1}$. For vector it it applied elementwise, so the first order optimality condition is \n",
        "$$\\|A \\varepsilon\\|_q^{-q} \\cdot\\|\\varepsilon\\|_p^p \\cdot A^{\\top} \\psi_q \\left(A\\varepsilon \\right) = \\psi_p(\\varepsilon)$$\n",
        "\n",
        "Let's apply $\\psi_{p^{\\prime}}(\\cdot)$ to both sides, where $p^{\\prime}$ is so that $\\left(p-1\\right)(p^{\\prime} - 1)=1$\n",
        "\n",
        "Right hand side will transform just to $\\varepsilon$, indeed\n",
        "\n",
        "$$\\psi_{p^{\\prime}}\\left(\\psi_p(\\varepsilon)\\right)=\\psi_{p^{\\prime}}\\left(\\operatorname{sign} \\varepsilon|\\varepsilon|^{p-1}\\right)= |\\operatorname{sign} \\varepsilon|^{ p^{\\prime}-1 }\\cdot|\\varepsilon|^{\\left(p-1\\right)(p^{\\prime} - 1)} \\cdot \\operatorname{sign}\\left(\\operatorname{sign} \\varepsilon |\\varepsilon|^{p-1}\\right) = 1 \\cdot|\\varepsilon| \\cdot \\operatorname{sign}\\varepsilon=\\varepsilon$$\n",
        "\n",
        "Finally, $\\varepsilon=\\psi_{p^{\\prime}}\\left( \\|A \\varepsilon\\|_q^{-q} \\cdot\\|\\varepsilon\\|_p^p \\cdot A^{\\top} \\psi_q \\left(A\\varepsilon \\right) \\right)= \\|A \\varepsilon\\|_q^{-q (p^{\\prime} - 1 )} \\cdot \\| \\varepsilon\\|_p^{p(p^{\\prime} - 1 )} \\cdot \\psi_{p^{\\prime}}\\left(A^{\\top} \\psi_q \\left(A\\varepsilon \\right) \\right)$.\n",
        "\n",
        "Fixed point iteration is then: $\\varepsilon_{k+1}=\\left\\|J_i(X) \\varepsilon_k\\right\\|_q^{-q\\left(p^{\\prime}-1\\right)} \\cdot \\psi_{p^{\\prime}}\\left(J_i^{\\top}(X) \\psi_q(J_i(X) \\varepsilon)\\right), \\quad \\varepsilon_{k+1}=\\frac{\\varepsilon_{k+1}}{\\|\\varepsilon_{k+1}\\|} $ \n",
        "\n",
        "\n",
        "For obtaining sparse $\\varepsilon$, i.e. vector $\\varepsilon$ with less than $k$ non-zero elements, we can just zero out all entries except the top-$k$ ones at each iteration, and then normalize the vector $\\varepsilon_{k+1}$.\n",
        "\n"
      ],
      "metadata": {
        "id": "VAxYYot1W65F"
      }
    },
    {
      "cell_type": "code",
      "execution_count": null,
      "metadata": {
        "id": "A5bnjKKj3Hm5"
      },
      "outputs": [],
      "source": [
        "import torch\n",
        "import torch.nn as nn\n",
        "import requests"
      ]
    },
    {
      "cell_type": "code",
      "execution_count": null,
      "metadata": {
        "id": "VUFsGCfM5eOX"
      },
      "outputs": [],
      "source": [
        "def download_file_from_google_drive(id, destination):\n",
        "    URL = \"https://docs.google.com/uc?export=download\"\n",
        "\n",
        "    session = requests.Session()\n",
        "\n",
        "    response = session.get(URL, params = { 'id' : id }, stream = True)\n",
        "    token = get_confirm_token(response)\n",
        "\n",
        "    if token:\n",
        "        params = { 'id' : id, 'confirm' : token }\n",
        "        response = session.get(URL, params = params, stream = True)\n",
        "\n",
        "    save_response_content(response, destination)\n",
        "\n",
        "\n",
        "def get_confirm_token(response):\n",
        "    for key, value in response.cookies.items():\n",
        "        if key.startswith('download_warning'):\n",
        "            return value\n",
        "\n",
        "    return None\n",
        "\n",
        "\n",
        "def save_response_content(response, destination):\n",
        "    CHUNK_SIZE = 32768\n",
        "\n",
        "    with open(destination, \"wb\") as f:\n",
        "        for chunk in response.iter_content(CHUNK_SIZE):\n",
        "            if chunk: # filter out keep-alive new chunks\n",
        "                f.write(chunk)"
      ]
    },
    {
      "cell_type": "code",
      "execution_count": null,
      "metadata": {
        "id": "mVGCX5UDm1ld"
      },
      "outputs": [],
      "source": [
        "class CifarNet(nn.Module):\n",
        "    def __init__(self):\n",
        "        super(CifarNet, self).__init__()\n",
        "        self.conv1 = nn.Conv2d(3, 64, kernel_size=3)\n",
        "        self.conv2 = nn.Conv2d(64, 64, kernel_size=3)\n",
        "        self.conv3 = nn.Conv2d(64, 128, kernel_size=3)\n",
        "        self.conv4 = nn.Conv2d(128, 128, kernel_size=3)\n",
        "\n",
        "        self.pool = nn.MaxPool2d(2, 2)\n",
        "\n",
        "        self.relu = nn.ReLU(inplace=True)\n",
        "        self.fc1 = nn.Linear(3200, 256)\n",
        "        \n",
        "        self.dropout = nn.Dropout(0.5)\n",
        "        \n",
        "        self.fc2 = nn.Linear(256, 256)\n",
        "        self.fc3 = nn.Linear(256, 10)\n",
        "\n",
        "    def forward(self, x):\n",
        "        x = self.relu(self.conv1(x))\n",
        "        x = self.relu(self.conv2(x))\n",
        "        x = self.pool(x)\n",
        "\n",
        "        x = self.relu(self.conv3(x))\n",
        "        x = self.relu(self.conv4(x))\n",
        "        x = self.pool(x)\n",
        "\n",
        "        x = x.view(-1, 3200)\n",
        "        x = self.relu(self.fc1(x))\n",
        "        x = self.dropout(x)\n",
        "        \n",
        "        x = self.relu(self.fc2(x))\n",
        "        x = self.fc3(x)\n",
        "\n",
        "        return x"
      ]
    },
    {
      "cell_type": "code",
      "execution_count": null,
      "metadata": {
        "id": "YJ87b3t732Mw",
        "colab": {
          "base_uri": "https://localhost:8080/"
        },
        "outputId": "d500cd05-ea2f-4cdf-da2d-4accd850c9ec"
      },
      "outputs": [
        {
          "output_type": "execute_result",
          "data": {
            "text/plain": [
              "<All keys matched successfully>"
            ]
          },
          "metadata": {},
          "execution_count": 30
        }
      ],
      "source": [
        "device = \"cuda:0\" if torch.cuda.is_available() else \"cpu\"\n",
        "\n",
        "file_id = \"1qrNvr3eLYjvbkVg5jY2sYA2rqK9XkTXs\"\n",
        "download_file_from_google_drive(file_id, \"./cifar_checkpoint.pth\")\n",
        "\n",
        "model = CifarNet().to(device)\n",
        "model.load_state_dict(torch.load(\"./cifar_checkpoint.pth\", map_location=\"cpu\"))"
      ]
    },
    {
      "cell_type": "code",
      "source": [
        "!pip install functorch"
      ],
      "metadata": {
        "colab": {
          "base_uri": "https://localhost:8080/"
        },
        "id": "K3cojFxAP_CI",
        "outputId": "6726d243-443e-447c-eea9-07c0d83b9841"
      },
      "execution_count": null,
      "outputs": [
        {
          "output_type": "stream",
          "name": "stdout",
          "text": [
            "Looking in indexes: https://pypi.org/simple, https://us-python.pkg.dev/colab-wheels/public/simple/\n",
            "Collecting functorch\n",
            "  Downloading functorch-1.13.0-py2.py3-none-any.whl (2.1 kB)\n",
            "Requirement already satisfied: torch<1.13.1,>=1.13.0 in /usr/local/lib/python3.8/dist-packages (from functorch) (1.13.0+cu116)\n",
            "Requirement already satisfied: typing-extensions in /usr/local/lib/python3.8/dist-packages (from torch<1.13.1,>=1.13.0->functorch) (4.4.0)\n",
            "Installing collected packages: functorch\n",
            "Successfully installed functorch-1.13.0\n"
          ]
        }
      ]
    },
    {
      "cell_type": "code",
      "source": [
        "from tqdm.notebook import tqdm\n",
        "from torch.autograd.functional import jacobian\n",
        "from functorch import vmap, jacfwd\n",
        "import matplotlib.pyplot as plt\n",
        "import numpy as np\n",
        "from torch import autograd\n",
        "\n",
        "# functions to show an image\n",
        "def imshow(img):\n",
        "    plt.figure(figsize=(4,2))\n",
        "    img = img / 2 + 0.5     # unnormalize\n",
        "    npimg = img.numpy()\n",
        "    plt.imshow(np.transpose(npimg, (1, 2, 0)))\n",
        "    plt.show()\n",
        "\n",
        "\n",
        "def Calc_Gradient(z):\n",
        "    model.eval()\n",
        "    compute_batch_jacobian = vmap(jacfwd(model))\n",
        "    grads = compute_batch_jacobian(z)\n",
        "    return grads.reshape(-1, 32 * 32 * 3)\n",
        "\n",
        "\n",
        "def truncate(x, k):\n",
        "    # Take indeces of top k values\n",
        "    topk_indeces = np.argsort(np.abs(x), axis=-1)[-k:] \n",
        "    # Leave top values of k, zeroing all the others\n",
        "    truncated_x = np.zeros(x.shape) \n",
        "    truncated_x[topk_indeces] = x[topk_indeces]  \n",
        "    return truncated_x\n",
        "\n",
        "\n",
        "def psi(p, x): return np.sign(x) * (np.abs(x) ** (p - 1.0))\n",
        "\n",
        "\n",
        "def power_method(A, q, p, k):\n",
        "    # Initialize with some random vector ||eps||_p = 1\n",
        "    p_prime = p / (p - 1)\n",
        "    eps = np.random.rand(A.shape[-1])\n",
        "    eps /= np.linalg.norm(eps, ord=p)\n",
        "    A_eps = np.linalg.norm(A @ eps, ord=q)\n",
        "    for i in range(5):\n",
        "        eps = psi(p_prime, A.T @ psi(q, A @ eps)) * (np.linalg.norm(eps, ord=p) ** (p * (p_prime - 1)))\n",
        "        eps *= A_eps ** (-q * (p_prime - 1))\n",
        "        eps = truncate(eps, k)\n",
        "        A_eps = np.linalg.norm(A @ eps, ord=q)\n",
        "        eps /= np.linalg.norm(eps, ord=p)\n",
        "    return eps\n",
        "\n",
        "\n",
        "def get_epsilon(batch, model, q, p, k): \n",
        "    #p, q - norms, k - sparsity\n",
        "    J = Calc_Gradient(batch.to(device))\n",
        "    J = J.detach().cpu().numpy()\n",
        "    epsilon = power_method(J, q, p, k)\n",
        "    return epsilon\n",
        "\n",
        "def fooling_rate_upd(epsilon, model):  \n",
        "    fools = 0\n",
        "    total = 0\n",
        "    with torch.no_grad():\n",
        "        model.eval()\n",
        "        flag = 1\n",
        "        for data in tqdm(trainloader):\n",
        "            batch, labels = data\n",
        "            outputs = model(batch.to(device))\n",
        "            _, predicted = torch.max(outputs, 1)\n",
        "\n",
        "            attacked_batch = batch + torch.tensor(epsilon.reshape(3, 32, 32))\n",
        "            attacked_batch = attacked_batch.to(torch.float)\n",
        "            attacked_outputs = model(attacked_batch.to(device))\n",
        "            _, attacked_predicted = torch.max(attacked_outputs, 1)\n",
        "\n",
        "            total += labels.size(0)\n",
        "            fools += (attacked_predicted != predicted).sum().item()\n",
        "\n",
        "\n",
        "            # show some images where the model was fooled\n",
        "            if (attacked_predicted != predicted).sum().item() > 0 and flag > 0:\n",
        "                imshow(torchvision.utils.make_grid(batch))\n",
        "                imshow(torchvision.utils.make_grid(attacked_batch))\n",
        "                # print labels\n",
        "                print('Groundtruth: ', ' '.join(f'{classes[labels[j]]:5s}' for j in range(batch_size)))\n",
        "                # print predictions\n",
        "                print('Predicted: ', ' '.join(f'{classes[predicted[j]]:5s}' for j in range(batch_size)))\n",
        "                # print predictions\n",
        "                print('Attacked Predicted: ', ' '.join(f'{classes[attacked_predicted[j]]:5s}' for j in range(batch_size)))\n",
        "                flag = 0\n",
        "\n",
        "    print(f'Fool rate: {100 * fools // total} %')"
      ],
      "metadata": {
        "id": "YmzBwAHxVTXZ"
      },
      "execution_count": null,
      "outputs": []
    },
    {
      "cell_type": "code",
      "source": [
        "import torchvision\n",
        "import torchvision.transforms as transforms\n",
        "\n",
        "\n",
        "\n",
        "transform = transforms.Compose(\n",
        "    [transforms.ToTensor(),\n",
        "     transforms.Normalize((0.5, 0.5, 0.5), (0.5, 0.5, 0.5))])\n",
        "\n",
        "classes = ('plane', 'car', 'bird', 'cat',\n",
        "           'deer', 'dog', 'frog', 'horse', 'ship', 'truck')\n",
        "\n",
        "\n",
        "batch_size = 4\n",
        "trainset = torchvision.datasets.CIFAR10(root='./data', train=True,\n",
        "                                        download=True, transform=transform)\n",
        "trainloader = torch.utils.data.DataLoader(trainset, batch_size=batch_size,\n",
        "                                          shuffle=True, num_workers=2)\n",
        "\n",
        "dataiter = iter(trainloader)\n",
        "batch, _ = next(dataiter)\n",
        "epsilon = get_epsilon(batch, model, 2, 2, 0)\n",
        "fooling_rate_upd(epsilon, model)"
      ],
      "metadata": {
        "id": "tl2u-wfkfopE",
        "colab": {
          "base_uri": "https://localhost:8080/",
          "height": 432,
          "referenced_widgets": [
            "3ebafdecc4224ad0ac1d6f42ff3e69ed",
            "ddb3a5deac114cafb1195697ecfe11eb",
            "4f03b0149d894fcc9c29e86438fd8f44",
            "b6691f43dfca4a23a3100d901f90e90d",
            "91a602c366fb4e9d90c2c35dd74c81ea",
            "48b5bacf7c21419e9dec2787e03e9dba",
            "17d1f9227a1b4d2390275064aede62d1",
            "db5a770c6dd84bffa32dc1d26b8dbae7",
            "b47255d69ee145df8cedf49da4960f84",
            "6b33ba585a8f43028f98a4504f61ad66",
            "406ed0e45c044cfa924762c1be68e81e"
          ]
        },
        "outputId": "d9014887-95f0-4f12-d76e-5b18e9ffa32f"
      },
      "execution_count": null,
      "outputs": [
        {
          "output_type": "stream",
          "name": "stdout",
          "text": [
            "Files already downloaded and verified\n"
          ]
        },
        {
          "output_type": "display_data",
          "data": {
            "text/plain": [
              "  0%|          | 0/25000 [00:00<?, ?it/s]"
            ],
            "application/vnd.jupyter.widget-view+json": {
              "version_major": 2,
              "version_minor": 0,
              "model_id": "3ebafdecc4224ad0ac1d6f42ff3e69ed"
            }
          },
          "metadata": {}
        },
        {
          "output_type": "display_data",
          "data": {
            "text/plain": [
              "<Figure size 288x144 with 1 Axes>"
            ],
            "image/png": "[encoded data removed]"
          },
          "metadata": {
            "needs_background": "light"
          }
        },
        {
          "output_type": "stream",
          "name": "stderr",
          "text": [
            "WARNING:matplotlib.image:Clipping input data to the valid range for imshow with RGB data ([0..1] for floats or [0..255] for integers).\n"
          ]
        },
        {
          "output_type": "display_data",
          "data": {
            "text/plain": [
              "<Figure size 288x144 with 1 Axes>"
            ],
            "image/png": "[encoded data removed]"
          },
          "metadata": {
            "needs_background": "light"
          }
        },
        {
          "output_type": "stream",
          "name": "stdout",
          "text": [
            "Groundtruth:  ship  plane\n",
            "Predicted:  ship  plane\n",
            "Attacked Predicted:  truck plane\n",
            "Fool rate: 6 %\n"
          ]
        }
      ]
    },
    {
      "cell_type": "markdown",
      "source": [
        "**Comment:** the preturbed layer is the last one. My implementation clearly is not efficient, so that the maximal batch_size is equal to 4)) \n",
        "Foolrate 6% but it is not so bad given that for it creation only 4 images out of the 50000 trainset were used"
      ],
      "metadata": {
        "id": "8qnWAuaBrptj"
      }
    },
    {
      "cell_type": "code",
      "source": [
        "# how pertrubation does look like\n",
        "imshow(torchvision.utils.make_grid(torch.tensor(epsilon.reshape(3, 32, 32)))) "
      ],
      "metadata": {
        "colab": {
          "base_uri": "https://localhost:8080/",
          "height": 158
        },
        "id": "yvWRXfijlDmj",
        "outputId": "bcd13dd1-2b8f-499f-8942-b79e8be75afc"
      },
      "execution_count": null,
      "outputs": [
        {
          "output_type": "display_data",
          "data": {
            "text/plain": [
              "<Figure size 288x144 with 1 Axes>"
            ],
            "image/png": "[encoded data removed]"
          },
          "metadata": {
            "needs_background": "light"
          }
        }
      ]
    },
    {
      "cell_type": "markdown",
      "metadata": {
        "id": "17Ipdn6u3T_n"
      },
      "source": [
        "# Problem 4 (Image restoration) (23 pts) "
      ]
    },
    {
      "cell_type": "markdown",
      "metadata": {
        "id": "15lKpTklxWzn"
      },
      "source": [
        "Image restoration is the task where we need to eliminate blurring and some random noise to get ideal image. Practically, images obtained in real life could be represented in following way:\n",
        "\n",
        "$$g = f * h + n$$\n",
        "\n",
        "where $g$ - obtained image of size $(N,N)$, $h$ - blur kernel of size $(3,3)$, $n$ - an additive zero-mean Gaussian white noise, and $f$ - ideal image (deblurred and denoised). In our work we will use gaussian blur kernel with window size 3:\n",
        "\n",
        "$$h = \\frac{1}{16}\\begin{pmatrix}1 & 2 & 1\\\\ 2 & 4 & 2\\\\ 1 & 2 & 1\\end{pmatrix}$$\n",
        "\n",
        "Here $f*h$ is a 2-d convolution of ideal image with blur kernel, which could be rewritten in matrix format:\n",
        "\n",
        "$$f * h = H \\mathrm{vec}(f)$$\n",
        "\n",
        "where $H$ - block Toeplitz with Toeplitz blocks matrix which corresponds to 2-d convolution with kernel $h$, $\\mathrm{vec}(\\cdot)$ - operation of vectorization.\n",
        "\n",
        "So, let us write the task of finding $f$ as optimization problem:\n",
        "\n",
        "$$\\min\\limits_{f,u} \\|H\\mathrm{vec}(f) - \\mathrm{vec}(g)\\|_2^2 + \\alpha_1\\|\\mathrm{vec}(f-u)\\|_2^2 + \\alpha_2\\|u\\|_{\\mathrm{TV}}$$\n",
        "where $\\|u\\|_{\\mathrm{TV}} = \\sum\\limits_{1\\leq j,k\\leq N}\\|\\nabla u_{j,k}\\|_2 = \\sum\\limits_{1\\leq j,k\\leq N}\\sqrt{(u_{j+1,k}-u_{j,k})^2 + (u_{j,k+1}-u_{j,k})^2}$ here we calculate gradients (pixel differences) along **x** and **y** image dimensions.\n",
        "\n",
        "One can notice that problem could be splitted on two:\n",
        "\n",
        "$$\\min\\limits_{u}\\min\\limits_f \\{\\|H\\mathrm{vec}(f) - \\mathrm{vec}(g)\\|_2^2 + \\alpha_1\\|\\mathrm{vec}(f-u)\\|_2^2\\} + \\alpha_2\\|u\\|_{\\mathrm{TV}}$$\n",
        "\n",
        "To find the solution we will use iterative method:\n",
        "\n",
        "$$\\begin{cases}\n",
        "f^{(i)} = \\arg\\min\\limits_f \\|H\\mathrm{vec}(f) - \\mathrm{vec}(g)\\|_2^2 + \\alpha_1\\|\\mathrm{vec}(f-u^{(i-1)})\\|_2^2 & (a)\\\\\n",
        "u^{(i)} = \\arg\\min\\limits_u \\alpha_1\\|\\mathrm{vec}(f^{(i)}-u)\\|_2^2 + \\alpha_2\\|u\\|_{\\mathrm{TV}} & (b)\n",
        "\\end{cases}$$\n",
        "\n",
        "Taking matrix derivative over the minimization functional in subproblem **(a)** we get the system:\n",
        "\n",
        "$$(H^TH + \\alpha_1I)\\mathrm{vec}(f) = H^T\\mathrm{vec}(g+\\alpha_1u^{(i-1)})$$\n",
        "\n",
        "This system can be solved by conjugate gradient method. Also, taking into account that $H$ is block Toeplitz with Toeplitz blocks (BTTB), we can make fast matrix by vector multiplication.\n",
        "\n",
        "The subproblem **(b)** could be solved by using any kind of solver of your choice.\n",
        "\n",
        "**So, your task is to:**\n",
        "\n",
        "1. Implement creation and fast matrix by vector multiplication for matrix $H$ **(6 pts)**\n",
        "2. Implement solver for subproblem **(a)** based on conjugate gradient descent using fast matrix by vector multiplication for $H$. **(8 pts)**\n",
        "3. Implement some solver for subproblem **(b)** **(3 pts)**\n",
        "4. Implement iterative solver for the total problem using solvers for subproblems **(a)** and **(b)** **(3 pts)**\n",
        "5. Blur (use defined blurring kernel) given image and add gaussian noise with zero mean and some variance (up to you). Try to restore the image, compare the result with the original one. Make a conclusion. **(3 pts)**\n"
      ]
    },
    {
      "cell_type": "code",
      "source": [],
      "metadata": {
        "id": "9XBMgsvqO3Kp"
      },
      "execution_count": null,
      "outputs": []
    },
    {
      "cell_type": "code",
      "execution_count": null,
      "metadata": {
        "id": "hY7W038m3YoR"
      },
      "outputs": [],
      "source": [
        "from PIL import Image, ImageOps"
      ]
    },
    {
      "cell_type": "code",
      "execution_count": null,
      "metadata": {
        "colab": {
          "base_uri": "https://localhost:8080/"
        },
        "id": "78IpLj8FtO7_",
        "outputId": "5cdc01b8-b76d-45f8-8a82-d7e0b62086ff"
      },
      "outputs": [
        {
          "output_type": "stream",
          "name": "stdout",
          "text": [
            "--2022-12-11 20:32:20--  https://github.com/oseledets/nla2022/blob/main/hw2/lena.png?raw=true\n",
            "Resolving github.com (github.com)... 20.205.243.166\n",
            "Connecting to github.com (github.com)|20.205.243.166|:443... connected.\n",
            "HTTP request sent, awaiting response... 302 Found\n",
            "Location: https://github.com/oseledets/nla2022/raw/main/hw2/lena.png [following]\n",
            "--2022-12-11 20:32:20--  https://github.com/oseledets/nla2022/raw/main/hw2/lena.png\n",
            "Reusing existing connection to github.com:443.\n",
            "HTTP request sent, awaiting response... 302 Found\n",
            "Location: https://raw.githubusercontent.com/oseledets/nla2022/main/hw2/lena.png [following]\n",
            "--2022-12-11 20:32:20--  https://raw.githubusercontent.com/oseledets/nla2022/main/hw2/lena.png\n",
            "Resolving raw.githubusercontent.com (raw.githubusercontent.com)... 185.199.108.133, 185.199.109.133, 185.199.110.133, ...\n",
            "Connecting to raw.githubusercontent.com (raw.githubusercontent.com)|185.199.108.133|:443... connected.\n",
            "HTTP request sent, awaiting response... 200 OK\n",
            "Length: 20329 (20K) [image/png]\n",
            "Saving to: ‘/lena.png’\n",
            "\n",
            "/lena.png           100%[===================>]  19.85K  --.-KB/s    in 0s      \n",
            "\n",
            "2022-12-11 20:32:20 (129 MB/s) - ‘/lena.png’ saved [20329/20329]\n",
            "\n"
          ]
        }
      ],
      "source": [
        "!wget --no-check-certificate \\\n",
        "    \"https://github.com/oseledets/nla2022/blob/main/hw2/lena.png?raw=true\" \\\n",
        "    -O \"/lena.png\""
      ]
    },
    {
      "cell_type": "code",
      "execution_count": null,
      "metadata": {
        "colab": {
          "base_uri": "https://localhost:8080/",
          "height": 216
        },
        "id": "NHg9I_PVrlJy",
        "outputId": "dc89d0b4-7a3a-4f66-eae7-46bb07c7b7e5"
      },
      "outputs": [
        {
          "output_type": "execute_result",
          "data": {
            "text/plain": [
              "<PIL.Image.Image image mode=L size=200x200 at 0x7F4788D97850>"
            ],
            "image/png": "[encoded data removed]"
          },
          "metadata": {},
          "execution_count": 42
        }
      ],
      "source": [
        "orig_image = ImageOps.grayscale(Image.open(\"/lena.png\"))\n",
        "orig_image"
      ]
    }
  ],
  "metadata": {
    "colab": {
      "provenance": [],
      "collapsed_sections": [
        "17Ipdn6u3T_n"
      ]
    },
    "kernelspec": {
      "display_name": "Python 3 (ipykernel)",
      "language": "python",
      "name": "python3"
    },
    "language_info": {
      "codemirror_mode": {
        "name": "ipython",
        "version": 3
      },
      "file_extension": ".py",
      "mimetype": "text/x-python",
      "name": "python",
      "nbconvert_exporter": "python",
      "pygments_lexer": "ipython3",
      "version": "3.9.12"
    },
    "gpuClass": "standard",
    "widgets": {
      "application/vnd.jupyter.widget-state+json": {
        "3ebafdecc4224ad0ac1d6f42ff3e69ed": {
          "model_module": "@jupyter-widgets/controls",
          "model_name": "HBoxModel",
          "model_module_version": "1.5.0",
          "state": {
            "_dom_classes": [],
            "_model_module": "@jupyter-widgets/controls",
            "_model_module_version": "1.5.0",
            "_model_name": "HBoxModel",
            "_view_count": null,
            "_view_module": "@jupyter-widgets/controls",
            "_view_module_version": "1.5.0",
            "_view_name": "HBoxView",
            "box_style": "",
            "children": [
              "IPY_MODEL_ddb3a5deac114cafb1195697ecfe11eb",
              "IPY_MODEL_4f03b0149d894fcc9c29e86438fd8f44",
              "IPY_MODEL_b6691f43dfca4a23a3100d901f90e90d"
            ],
            "layout": "IPY_MODEL_91a602c366fb4e9d90c2c35dd74c81ea"
          }
        },
        "ddb3a5deac114cafb1195697ecfe11eb": {
          "model_module": "@jupyter-widgets/controls",
          "model_name": "HTMLModel",
          "model_module_version": "1.5.0",
          "state": {
            "_dom_classes": [],
            "_model_module": "@jupyter-widgets/controls",
            "_model_module_version": "1.5.0",
            "_model_name": "HTMLModel",
            "_view_count": null,
            "_view_module": "@jupyter-widgets/controls",
            "_view_module_version": "1.5.0",
            "_view_name": "HTMLView",
            "description": "",
            "description_tooltip": null,
            "layout": "IPY_MODEL_48b5bacf7c21419e9dec2787e03e9dba",
            "placeholder": "​",
            "style": "IPY_MODEL_17d1f9227a1b4d2390275064aede62d1",
            "value": "100%"
          }
        },
        "4f03b0149d894fcc9c29e86438fd8f44": {
          "model_module": "@jupyter-widgets/controls",
          "model_name": "FloatProgressModel",
          "model_module_version": "1.5.0",
          "state": {
            "_dom_classes": [],
            "_model_module": "@jupyter-widgets/controls",
            "_model_module_version": "1.5.0",
            "_model_name": "FloatProgressModel",
            "_view_count": null,
            "_view_module": "@jupyter-widgets/controls",
            "_view_module_version": "1.5.0",
            "_view_name": "ProgressView",
            "bar_style": "success",
            "description": "",
            "description_tooltip": null,
            "layout": "IPY_MODEL_db5a770c6dd84bffa32dc1d26b8dbae7",
            "max": 25000,
            "min": 0,
            "orientation": "horizontal",
            "style": "IPY_MODEL_b47255d69ee145df8cedf49da4960f84",
            "value": 25000
          }
        },
        "b6691f43dfca4a23a3100d901f90e90d": {
          "model_module": "@jupyter-widgets/controls",
          "model_name": "HTMLModel",
          "model_module_version": "1.5.0",
          "state": {
            "_dom_classes": [],
            "_model_module": "@jupyter-widgets/controls",
            "_model_module_version": "1.5.0",
            "_model_name": "HTMLModel",
            "_view_count": null,
            "_view_module": "@jupyter-widgets/controls",
            "_view_module_version": "1.5.0",
            "_view_name": "HTMLView",
            "description": "",
            "description_tooltip": null,
            "layout": "IPY_MODEL_6b33ba585a8f43028f98a4504f61ad66",
            "placeholder": "​",
            "style": "IPY_MODEL_406ed0e45c044cfa924762c1be68e81e",
            "value": " 25000/25000 [01:45&lt;00:00, 164.28it/s]"
          }
        },
        "91a602c366fb4e9d90c2c35dd74c81ea": {
          "model_module": "@jupyter-widgets/base",
          "model_name": "LayoutModel",
          "model_module_version": "1.2.0",
          "state": {
            "_model_module": "@jupyter-widgets/base",
            "_model_module_version": "1.2.0",
            "_model_name": "LayoutModel",
            "_view_count": null,
            "_view_module": "@jupyter-widgets/base",
            "_view_module_version": "1.2.0",
            "_view_name": "LayoutView",
            "align_content": null,
            "align_items": null,
            "align_self": null,
            "border": null,
            "bottom": null,
            "display": null,
            "flex": null,
            "flex_flow": null,
            "grid_area": null,
            "grid_auto_columns": null,
            "grid_auto_flow": null,
            "grid_auto_rows": null,
            "grid_column": null,
            "grid_gap": null,
            "grid_row": null,
            "grid_template_areas": null,
            "grid_template_columns": null,
            "grid_template_rows": null,
            "height": null,
            "justify_content": null,
            "justify_items": null,
            "left": null,
            "margin": null,
            "max_height": null,
            "max_width": null,
            "min_height": null,
            "min_width": null,
            "object_fit": null,
            "object_position": null,
            "order": null,
            "overflow": null,
            "overflow_x": null,
            "overflow_y": null,
            "padding": null,
            "right": null,
            "top": null,
            "visibility": null,
            "width": null
          }
        },
        "48b5bacf7c21419e9dec2787e03e9dba": {
          "model_module": "@jupyter-widgets/base",
          "model_name": "LayoutModel",
          "model_module_version": "1.2.0",
          "state": {
            "_model_module": "@jupyter-widgets/base",
            "_model_module_version": "1.2.0",
            "_model_name": "LayoutModel",
            "_view_count": null,
            "_view_module": "@jupyter-widgets/base",
            "_view_module_version": "1.2.0",
            "_view_name": "LayoutView",
            "align_content": null,
            "align_items": null,
            "align_self": null,
            "border": null,
            "bottom": null,
            "display": null,
            "flex": null,
            "flex_flow": null,
            "grid_area": null,
            "grid_auto_columns": null,
            "grid_auto_flow": null,
            "grid_auto_rows": null,
            "grid_column": null,
            "grid_gap": null,
            "grid_row": null,
            "grid_template_areas": null,
            "grid_template_columns": null,
            "grid_template_rows": null,
            "height": null,
            "justify_content": null,
            "justify_items": null,
            "left": null,
            "margin": null,
            "max_height": null,
            "max_width": null,
            "min_height": null,
            "min_width": null,
            "object_fit": null,
            "object_position": null,
            "order": null,
            "overflow": null,
            "overflow_x": null,
            "overflow_y": null,
            "padding": null,
            "right": null,
            "top": null,
            "visibility": null,
            "width": null
          }
        },
        "17d1f9227a1b4d2390275064aede62d1": {
          "model_module": "@jupyter-widgets/controls",
          "model_name": "DescriptionStyleModel",
          "model_module_version": "1.5.0",
          "state": {
            "_model_module": "@jupyter-widgets/controls",
            "_model_module_version": "1.5.0",
            "_model_name": "DescriptionStyleModel",
            "_view_count": null,
            "_view_module": "@jupyter-widgets/base",
            "_view_module_version": "1.2.0",
            "_view_name": "StyleView",
            "description_width": ""
          }
        },
        "db5a770c6dd84bffa32dc1d26b8dbae7": {
          "model_module": "@jupyter-widgets/base",
          "model_name": "LayoutModel",
          "model_module_version": "1.2.0",
          "state": {
            "_model_module": "@jupyter-widgets/base",
            "_model_module_version": "1.2.0",
            "_model_name": "LayoutModel",
            "_view_count": null,
            "_view_module": "@jupyter-widgets/base",
            "_view_module_version": "1.2.0",
            "_view_name": "LayoutView",
            "align_content": null,
            "align_items": null,
            "align_self": null,
            "border": null,
            "bottom": null,
            "display": null,
            "flex": null,
            "flex_flow": null,
            "grid_area": null,
            "grid_auto_columns": null,
            "grid_auto_flow": null,
            "grid_auto_rows": null,
            "grid_column": null,
            "grid_gap": null,
            "grid_row": null,
            "grid_template_areas": null,
            "grid_template_columns": null,
            "grid_template_rows": null,
            "height": null,
            "justify_content": null,
            "justify_items": null,
            "left": null,
            "margin": null,
            "max_height": null,
            "max_width": null,
            "min_height": null,
            "min_width": null,
            "object_fit": null,
            "object_position": null,
            "order": null,
            "overflow": null,
            "overflow_x": null,
            "overflow_y": null,
            "padding": null,
            "right": null,
            "top": null,
            "visibility": null,
            "width": null
          }
        },
        "b47255d69ee145df8cedf49da4960f84": {
          "model_module": "@jupyter-widgets/controls",
          "model_name": "ProgressStyleModel",
          "model_module_version": "1.5.0",
          "state": {
            "_model_module": "@jupyter-widgets/controls",
            "_model_module_version": "1.5.0",
            "_model_name": "ProgressStyleModel",
            "_view_count": null,
            "_view_module": "@jupyter-widgets/base",
            "_view_module_version": "1.2.0",
            "_view_name": "StyleView",
            "bar_color": null,
            "description_width": ""
          }
        },
        "6b33ba585a8f43028f98a4504f61ad66": {
          "model_module": "@jupyter-widgets/base",
          "model_name": "LayoutModel",
          "model_module_version": "1.2.0",
          "state": {
            "_model_module": "@jupyter-widgets/base",
            "_model_module_version": "1.2.0",
            "_model_name": "LayoutModel",
            "_view_count": null,
            "_view_module": "@jupyter-widgets/base",
            "_view_module_version": "1.2.0",
            "_view_name": "LayoutView",
            "align_content": null,
            "align_items": null,
            "align_self": null,
            "border": null,
            "bottom": null,
            "display": null,
            "flex": null,
            "flex_flow": null,
            "grid_area": null,
            "grid_auto_columns": null,
            "grid_auto_flow": null,
            "grid_auto_rows": null,
            "grid_column": null,
            "grid_gap": null,
            "grid_row": null,
            "grid_template_areas": null,
            "grid_template_columns": null,
            "grid_template_rows": null,
            "height": null,
            "justify_content": null,
            "justify_items": null,
            "left": null,
            "margin": null,
            "max_height": null,
            "max_width": null,
            "min_height": null,
            "min_width": null,
            "object_fit": null,
            "object_position": null,
            "order": null,
            "overflow": null,
            "overflow_x": null,
            "overflow_y": null,
            "padding": null,
            "right": null,
            "top": null,
            "visibility": null,
            "width": null
          }
        },
        "406ed0e45c044cfa924762c1be68e81e": {
          "model_module": "@jupyter-widgets/controls",
          "model_name": "DescriptionStyleModel",
          "model_module_version": "1.5.0",
          "state": {
            "_model_module": "@jupyter-widgets/controls",
            "_model_module_version": "1.5.0",
            "_model_name": "DescriptionStyleModel",
            "_view_count": null,
            "_view_module": "@jupyter-widgets/base",
            "_view_module_version": "1.2.0",
            "_view_name": "StyleView",
            "description_width": ""
          }
        }
      }
    },
    "accelerator": "GPU"
  },
  "nbformat": 4,
  "nbformat_minor": 0
}